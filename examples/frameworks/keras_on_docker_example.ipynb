{
 "cells": [
  {
   "cell_type": "markdown",
   "metadata": {},
   "source": [
    "This example uses `pandas` to manipulate a dataset and loads a `csv/txt` file. For a more detailed guide refer to `tensorflow` example. In case of doubts refer to the documentation on https://clipper.ai."
   ]
  },
  {
   "cell_type": "code",
   "execution_count": 1,
   "metadata": {},
   "outputs": [
    {
     "name": "stdout",
     "output_type": "stream",
     "text": [
      "env: http_proxy=\n",
      "env: https_proxy=\n",
      "\n",
      "\n"
     ]
    }
   ],
   "source": [
    "%env http_proxy=\n",
    "%env https_proxy=\n",
    "!echo $http_proxy\n",
    "!echo $https_proxy"
   ]
  },
  {
   "cell_type": "code",
   "execution_count": 2,
   "metadata": {},
   "outputs": [
    {
     "name": "stderr",
     "output_type": "stream",
     "text": [
      "Using TensorFlow backend.\n"
     ]
    }
   ],
   "source": [
    "import tensorflow as tf\n",
    "import keras\n",
    "from keras.models import Sequential\n",
    "from keras.layers import Dense\n",
    "import pandas as pd\n",
    "import numpy as np\n",
    "import time"
   ]
  },
  {
   "cell_type": "code",
   "execution_count": 3,
   "metadata": {},
   "outputs": [],
   "source": [
    "# Load a text file with diabetes records\n",
    "# This is the same dataset as included in Scikit example, where it's loaded automatically\n",
    "dataset = pd.read_csv(\"diabetes.txt\", delimiter=\" \")"
   ]
  },
  {
   "cell_type": "code",
   "execution_count": 4,
   "metadata": {},
   "outputs": [],
   "source": [
    "# 80-20 split\n",
    "train_dataset = dataset.sample(frac=0.8,random_state=0)\n",
    "test_dataset = dataset.drop(train_dataset.index)"
   ]
  },
  {
   "cell_type": "code",
   "execution_count": 5,
   "metadata": {
    "scrolled": true
   },
   "outputs": [],
   "source": [
    "# Target variable\n",
    "train_labels = train_dataset.pop('y')\n",
    "test_labels = test_dataset.pop('y')"
   ]
  },
  {
   "cell_type": "code",
   "execution_count": 6,
   "metadata": {},
   "outputs": [
    {
     "name": "stdout",
     "output_type": "stream",
     "text": [
      "WARNING:tensorflow:From /home/cloud-user/.pyenv/versions/3.6.8/lib/python3.6/site-packages/tensorflow/python/framework/op_def_library.py:263: colocate_with (from tensorflow.python.framework.ops) is deprecated and will be removed in a future version.\n",
      "Instructions for updating:\n",
      "Colocations handled automatically by placer.\n"
     ]
    }
   ],
   "source": [
    "# Build a simple neural network\n",
    "def build_model():\n",
    "  model = Sequential()\n",
    "  model.add(Dense(64, activation='relu', input_shape=[len(train_dataset.keys())]))\n",
    "  model.add(Dense(64, activation='relu'))\n",
    "  model.add(Dense(units =1))\n",
    "\n",
    "  model.compile(loss='mean_squared_error',\n",
    "                optimizer='Adam',\n",
    "                metrics=['mean_absolute_error', 'mean_squared_error'])\n",
    "  return model\n",
    "\n",
    "model = build_model()"
   ]
  },
  {
   "cell_type": "code",
   "execution_count": 7,
   "metadata": {},
   "outputs": [
    {
     "name": "stdout",
     "output_type": "stream",
     "text": [
      "WARNING:tensorflow:From /home/cloud-user/.pyenv/versions/3.6.8/lib/python3.6/site-packages/tensorflow/python/ops/math_ops.py:3066: to_int32 (from tensorflow.python.ops.math_ops) is deprecated and will be removed in a future version.\n",
      "Instructions for updating:\n",
      "Use tf.cast instead.\n",
      "Train on 283 samples, validate on 71 samples\n",
      "Epoch 1/400\n",
      "283/283 [==============================] - 0s 823us/step - loss: 29196.7139 - mean_absolute_error: 153.4711 - mean_squared_error: 29196.7139 - val_loss: 26917.1386 - val_mean_absolute_error: 144.8595 - val_mean_squared_error: 26917.1386\n",
      "Epoch 2/400\n",
      "283/283 [==============================] - 0s 53us/step - loss: 29154.6918 - mean_absolute_error: 153.3335 - mean_squared_error: 29154.6918 - val_loss: 26868.6720 - val_mean_absolute_error: 144.6911 - val_mean_squared_error: 26868.6720\n",
      "Epoch 3/400\n",
      "283/283 [==============================] - 0s 46us/step - loss: 29094.6699 - mean_absolute_error: 153.1373 - mean_squared_error: 29094.6699 - val_loss: 26798.3635 - val_mean_absolute_error: 144.4513 - val_mean_squared_error: 26798.3635\n",
      "Epoch 4/400\n",
      "283/283 [==============================] - 0s 45us/step - loss: 29006.4062 - mean_absolute_error: 152.8510 - mean_squared_error: 29006.4062 - val_loss: 26695.9670 - val_mean_absolute_error: 144.1051 - val_mean_squared_error: 26695.9670\n",
      "Epoch 5/400\n",
      "283/283 [==============================] - 0s 44us/step - loss: 28874.4634 - mean_absolute_error: 152.4337 - mean_squared_error: 28874.4634 - val_loss: 26548.2531 - val_mean_absolute_error: 143.6065 - val_mean_squared_error: 26548.2531\n",
      "Epoch 6/400\n",
      "283/283 [==============================] - 0s 44us/step - loss: 28683.3405 - mean_absolute_error: 151.8276 - mean_squared_error: 28683.3405 - val_loss: 26336.2657 - val_mean_absolute_error: 142.8913 - val_mean_squared_error: 26336.2657\n",
      "Epoch 7/400\n",
      "283/283 [==============================] - 0s 43us/step - loss: 28417.3748 - mean_absolute_error: 150.9706 - mean_squared_error: 28417.3748 - val_loss: 26038.5130 - val_mean_absolute_error: 141.8873 - val_mean_squared_error: 26038.5130\n",
      "Epoch 8/400\n",
      "283/283 [==============================] - 0s 40us/step - loss: 28045.9335 - mean_absolute_error: 149.7824 - mean_squared_error: 28045.9335 - val_loss: 25638.3753 - val_mean_absolute_error: 140.5269 - val_mean_squared_error: 25638.3753\n",
      "Epoch 9/400\n",
      "283/283 [==============================] - 0s 43us/step - loss: 27551.4583 - mean_absolute_error: 148.1932 - mean_squared_error: 27551.4583 - val_loss: 25113.8469 - val_mean_absolute_error: 138.7262 - val_mean_squared_error: 25113.8469\n",
      "Epoch 10/400\n",
      "283/283 [==============================] - 0s 45us/step - loss: 26920.0183 - mean_absolute_error: 146.1077 - mean_squared_error: 26920.0183 - val_loss: 24443.8747 - val_mean_absolute_error: 136.3952 - val_mean_squared_error: 24443.8747\n",
      "Epoch 11/400\n",
      "283/283 [==============================] - 0s 40us/step - loss: 26117.1213 - mean_absolute_error: 143.4295 - mean_squared_error: 26117.1213 - val_loss: 23614.7395 - val_mean_absolute_error: 133.4550 - val_mean_squared_error: 23614.7395\n",
      "Epoch 12/400\n",
      "283/283 [==============================] - 0s 44us/step - loss: 25121.4199 - mean_absolute_error: 140.1175 - mean_squared_error: 25121.4199 - val_loss: 22616.7801 - val_mean_absolute_error: 129.8401 - val_mean_squared_error: 22616.7801\n",
      "Epoch 13/400\n",
      "283/283 [==============================] - 0s 46us/step - loss: 23959.6527 - mean_absolute_error: 136.0600 - mean_squared_error: 23959.6527 - val_loss: 21437.2724 - val_mean_absolute_error: 125.4482 - val_mean_squared_error: 21437.2724\n",
      "Epoch 14/400\n",
      "283/283 [==============================] - 0s 44us/step - loss: 22593.5676 - mean_absolute_error: 131.1750 - mean_squared_error: 22593.5676 - val_loss: 20097.0462 - val_mean_absolute_error: 120.2671 - val_mean_squared_error: 20097.0462\n",
      "Epoch 15/400\n",
      "283/283 [==============================] - 0s 47us/step - loss: 21052.7077 - mean_absolute_error: 125.4453 - mean_squared_error: 21052.7077 - val_loss: 18614.3653 - val_mean_absolute_error: 114.2741 - val_mean_squared_error: 18614.3653\n",
      "Epoch 16/400\n",
      "283/283 [==============================] - 0s 51us/step - loss: 19366.2902 - mean_absolute_error: 118.9400 - mean_squared_error: 19366.2902 - val_loss: 17012.0734 - val_mean_absolute_error: 107.4452 - val_mean_squared_error: 17012.0734\n",
      "Epoch 17/400\n",
      "283/283 [==============================] - 0s 49us/step - loss: 17552.7241 - mean_absolute_error: 111.5770 - mean_squared_error: 17552.7241 - val_loss: 15327.2280 - val_mean_absolute_error: 99.7912 - val_mean_squared_error: 15327.2280\n",
      "Epoch 18/400\n",
      "283/283 [==============================] - 0s 55us/step - loss: 15658.8647 - mean_absolute_error: 103.5445 - mean_squared_error: 15658.8647 - val_loss: 13611.7780 - val_mean_absolute_error: 91.8277 - val_mean_squared_error: 13611.7780\n",
      "Epoch 19/400\n",
      "283/283 [==============================] - 0s 50us/step - loss: 13738.3517 - mean_absolute_error: 95.2145 - mean_squared_error: 13738.3517 - val_loss: 11917.7192 - val_mean_absolute_error: 83.5572 - val_mean_squared_error: 11917.7192\n",
      "Epoch 20/400\n",
      "283/283 [==============================] - 0s 46us/step - loss: 11840.1940 - mean_absolute_error: 86.9327 - mean_squared_error: 11840.1940 - val_loss: 10313.0119 - val_mean_absolute_error: 76.4269 - val_mean_squared_error: 10313.0119\n",
      "Epoch 21/400\n",
      "283/283 [==============================] - 0s 43us/step - loss: 10133.9528 - mean_absolute_error: 78.9570 - mean_squared_error: 10133.9528 - val_loss: 8805.9121 - val_mean_absolute_error: 70.0220 - val_mean_squared_error: 8805.9121\n",
      "Epoch 22/400\n",
      "283/283 [==============================] - 0s 45us/step - loss: 8510.1366 - mean_absolute_error: 71.5715 - mean_squared_error: 8510.1366 - val_loss: 7512.1955 - val_mean_absolute_error: 64.9956 - val_mean_squared_error: 7512.1955\n",
      "Epoch 23/400\n",
      "283/283 [==============================] - 0s 45us/step - loss: 7165.1827 - mean_absolute_error: 65.4883 - mean_squared_error: 7165.1827 - val_loss: 6435.7779 - val_mean_absolute_error: 60.8193 - val_mean_squared_error: 6435.7779\n",
      "Epoch 24/400\n",
      "283/283 [==============================] - 0s 51us/step - loss: 6058.9582 - mean_absolute_error: 60.5521 - mean_squared_error: 6058.9582 - val_loss: 5609.3382 - val_mean_absolute_error: 58.2756 - val_mean_squared_error: 5609.3382\n",
      "Epoch 25/400\n",
      "283/283 [==============================] - 0s 55us/step - loss: 5190.7482 - mean_absolute_error: 56.9901 - mean_squared_error: 5190.7482 - val_loss: 5035.2038 - val_mean_absolute_error: 57.0668 - val_mean_squared_error: 5035.2038\n",
      "Epoch 26/400\n",
      "283/283 [==============================] - 0s 47us/step - loss: 4614.8962 - mean_absolute_error: 54.6112 - mean_squared_error: 4614.8962 - val_loss: 4658.7647 - val_mean_absolute_error: 56.5973 - val_mean_squared_error: 4658.7647\n",
      "Epoch 27/400\n",
      "283/283 [==============================] - 0s 47us/step - loss: 4227.1548 - mean_absolute_error: 53.3052 - mean_squared_error: 4227.1548 - val_loss: 4437.1183 - val_mean_absolute_error: 56.6543 - val_mean_squared_error: 4437.1183\n",
      "Epoch 28/400\n",
      "283/283 [==============================] - 0s 40us/step - loss: 3980.2844 - mean_absolute_error: 52.3779 - mean_squared_error: 3980.2844 - val_loss: 4322.6656 - val_mean_absolute_error: 56.7582 - val_mean_squared_error: 4322.6656\n",
      "Epoch 29/400\n",
      "283/283 [==============================] - 0s 42us/step - loss: 3854.8780 - mean_absolute_error: 51.9240 - mean_squared_error: 3854.8780 - val_loss: 4259.9687 - val_mean_absolute_error: 56.7594 - val_mean_squared_error: 4259.9687\n",
      "Epoch 30/400\n",
      "283/283 [==============================] - 0s 41us/step - loss: 3779.5461 - mean_absolute_error: 51.5610 - mean_squared_error: 3779.5461 - val_loss: 4224.3340 - val_mean_absolute_error: 56.7472 - val_mean_squared_error: 4224.3340\n",
      "Epoch 31/400\n",
      "283/283 [==============================] - 0s 51us/step - loss: 3729.1589 - mean_absolute_error: 51.2990 - mean_squared_error: 3729.1589 - val_loss: 4199.5355 - val_mean_absolute_error: 56.6890 - val_mean_squared_error: 4199.5355\n",
      "Epoch 32/400\n",
      "283/283 [==============================] - 0s 48us/step - loss: 3687.4950 - mean_absolute_error: 51.0756 - mean_squared_error: 3687.4950 - val_loss: 4172.1549 - val_mean_absolute_error: 56.4879 - val_mean_squared_error: 4172.1549\n"
     ]
    },
    {
     "name": "stdout",
     "output_type": "stream",
     "text": [
      "Epoch 33/400\n",
      "283/283 [==============================] - 0s 49us/step - loss: 3655.5855 - mean_absolute_error: 50.8294 - mean_squared_error: 3655.5855 - val_loss: 4146.2859 - val_mean_absolute_error: 56.2414 - val_mean_squared_error: 4146.2859\n",
      "Epoch 34/400\n",
      "283/283 [==============================] - 0s 42us/step - loss: 3626.0172 - mean_absolute_error: 50.5749 - mean_squared_error: 3626.0172 - val_loss: 4119.3118 - val_mean_absolute_error: 55.9579 - val_mean_squared_error: 4119.3118\n",
      "Epoch 35/400\n",
      "283/283 [==============================] - 0s 41us/step - loss: 3597.5952 - mean_absolute_error: 50.3315 - mean_squared_error: 3597.5952 - val_loss: 4094.2139 - val_mean_absolute_error: 55.7140 - val_mean_squared_error: 4094.2139\n",
      "Epoch 36/400\n",
      "283/283 [==============================] - 0s 44us/step - loss: 3573.8654 - mean_absolute_error: 50.1577 - mean_squared_error: 3573.8654 - val_loss: 4069.0902 - val_mean_absolute_error: 55.4350 - val_mean_squared_error: 4069.0902\n",
      "Epoch 37/400\n",
      "283/283 [==============================] - 0s 46us/step - loss: 3546.4559 - mean_absolute_error: 49.9442 - mean_squared_error: 3546.4559 - val_loss: 4042.8663 - val_mean_absolute_error: 55.1200 - val_mean_squared_error: 4042.8663\n",
      "Epoch 38/400\n",
      "283/283 [==============================] - 0s 44us/step - loss: 3522.0550 - mean_absolute_error: 49.7478 - mean_squared_error: 3522.0550 - val_loss: 4018.2514 - val_mean_absolute_error: 54.8094 - val_mean_squared_error: 4018.2514\n",
      "Epoch 39/400\n",
      "283/283 [==============================] - 0s 42us/step - loss: 3502.0718 - mean_absolute_error: 49.5945 - mean_squared_error: 3502.0718 - val_loss: 3998.2068 - val_mean_absolute_error: 54.5966 - val_mean_squared_error: 3998.2068\n",
      "Epoch 40/400\n",
      "283/283 [==============================] - 0s 45us/step - loss: 3478.9218 - mean_absolute_error: 49.4156 - mean_squared_error: 3478.9218 - val_loss: 3977.2482 - val_mean_absolute_error: 54.2958 - val_mean_squared_error: 3977.2482\n",
      "Epoch 41/400\n",
      "283/283 [==============================] - 0s 44us/step - loss: 3458.9772 - mean_absolute_error: 49.2317 - mean_squared_error: 3458.9772 - val_loss: 3955.0133 - val_mean_absolute_error: 54.0160 - val_mean_squared_error: 3955.0133\n",
      "Epoch 42/400\n",
      "283/283 [==============================] - 0s 48us/step - loss: 3439.1645 - mean_absolute_error: 49.0729 - mean_squared_error: 3439.1645 - val_loss: 3935.9462 - val_mean_absolute_error: 53.7589 - val_mean_squared_error: 3935.9462\n",
      "Epoch 43/400\n",
      "283/283 [==============================] - 0s 55us/step - loss: 3419.5800 - mean_absolute_error: 48.9081 - mean_squared_error: 3419.5800 - val_loss: 3916.9325 - val_mean_absolute_error: 53.5065 - val_mean_squared_error: 3916.9325\n",
      "Epoch 44/400\n",
      "283/283 [==============================] - 0s 48us/step - loss: 3403.0872 - mean_absolute_error: 48.7904 - mean_squared_error: 3403.0872 - val_loss: 3899.2879 - val_mean_absolute_error: 53.3252 - val_mean_squared_error: 3899.2879\n",
      "Epoch 45/400\n",
      "283/283 [==============================] - 0s 46us/step - loss: 3386.4335 - mean_absolute_error: 48.6617 - mean_squared_error: 3386.4335 - val_loss: 3879.8352 - val_mean_absolute_error: 53.0814 - val_mean_squared_error: 3879.8352\n",
      "Epoch 46/400\n",
      "283/283 [==============================] - 0s 54us/step - loss: 3368.7107 - mean_absolute_error: 48.5115 - mean_squared_error: 3368.7107 - val_loss: 3860.5467 - val_mean_absolute_error: 52.8635 - val_mean_squared_error: 3860.5467\n",
      "Epoch 47/400\n",
      "283/283 [==============================] - 0s 46us/step - loss: 3353.2715 - mean_absolute_error: 48.3810 - mean_squared_error: 3353.2715 - val_loss: 3844.7723 - val_mean_absolute_error: 52.6404 - val_mean_squared_error: 3844.7723\n",
      "Epoch 48/400\n",
      "283/283 [==============================] - 0s 45us/step - loss: 3338.3966 - mean_absolute_error: 48.2320 - mean_squared_error: 3338.3966 - val_loss: 3828.0221 - val_mean_absolute_error: 52.4028 - val_mean_squared_error: 3828.0221\n",
      "Epoch 49/400\n",
      "283/283 [==============================] - 0s 44us/step - loss: 3323.8373 - mean_absolute_error: 48.1015 - mean_squared_error: 3323.8373 - val_loss: 3808.4571 - val_mean_absolute_error: 52.1505 - val_mean_squared_error: 3808.4571\n",
      "Epoch 50/400\n",
      "283/283 [==============================] - 0s 53us/step - loss: 3311.7777 - mean_absolute_error: 47.9933 - mean_squared_error: 3311.7777 - val_loss: 3793.6099 - val_mean_absolute_error: 52.0359 - val_mean_squared_error: 3793.6099\n",
      "Epoch 51/400\n",
      "283/283 [==============================] - 0s 53us/step - loss: 3295.8535 - mean_absolute_error: 47.8557 - mean_squared_error: 3295.8535 - val_loss: 3776.8764 - val_mean_absolute_error: 51.8679 - val_mean_squared_error: 3776.8764\n",
      "Epoch 52/400\n",
      "283/283 [==============================] - 0s 46us/step - loss: 3283.3170 - mean_absolute_error: 47.7406 - mean_squared_error: 3283.3170 - val_loss: 3760.8987 - val_mean_absolute_error: 51.6626 - val_mean_squared_error: 3760.8987\n",
      "Epoch 53/400\n",
      "283/283 [==============================] - 0s 40us/step - loss: 3270.2423 - mean_absolute_error: 47.6177 - mean_squared_error: 3270.2423 - val_loss: 3747.1416 - val_mean_absolute_error: 51.4850 - val_mean_squared_error: 3747.1416\n",
      "Epoch 54/400\n",
      "283/283 [==============================] - 0s 40us/step - loss: 3259.7938 - mean_absolute_error: 47.5197 - mean_squared_error: 3259.7938 - val_loss: 3731.6243 - val_mean_absolute_error: 51.3186 - val_mean_squared_error: 3731.6243\n",
      "Epoch 55/400\n",
      "283/283 [==============================] - 0s 43us/step - loss: 3246.3036 - mean_absolute_error: 47.3895 - mean_squared_error: 3246.3036 - val_loss: 3716.3918 - val_mean_absolute_error: 51.1442 - val_mean_squared_error: 3716.3918\n",
      "Epoch 56/400\n",
      "283/283 [==============================] - 0s 43us/step - loss: 3236.8434 - mean_absolute_error: 47.2786 - mean_squared_error: 3236.8434 - val_loss: 3703.2112 - val_mean_absolute_error: 50.9168 - val_mean_squared_error: 3703.2112\n",
      "Epoch 57/400\n",
      "283/283 [==============================] - 0s 45us/step - loss: 3224.1299 - mean_absolute_error: 47.1675 - mean_squared_error: 3224.1299 - val_loss: 3688.2554 - val_mean_absolute_error: 50.7699 - val_mean_squared_error: 3688.2554\n",
      "Epoch 58/400\n",
      "283/283 [==============================] - 0s 58us/step - loss: 3214.4068 - mean_absolute_error: 47.0754 - mean_squared_error: 3214.4068 - val_loss: 3673.3705 - val_mean_absolute_error: 50.6143 - val_mean_squared_error: 3673.3705\n",
      "Epoch 59/400\n",
      "283/283 [==============================] - 0s 48us/step - loss: 3202.7714 - mean_absolute_error: 46.9596 - mean_squared_error: 3202.7714 - val_loss: 3659.4028 - val_mean_absolute_error: 50.4982 - val_mean_squared_error: 3659.4028\n",
      "Epoch 60/400\n",
      "283/283 [==============================] - 0s 45us/step - loss: 3192.8102 - mean_absolute_error: 46.8602 - mean_squared_error: 3192.8102 - val_loss: 3645.0741 - val_mean_absolute_error: 50.3355 - val_mean_squared_error: 3645.0741\n",
      "Epoch 61/400\n",
      "283/283 [==============================] - 0s 45us/step - loss: 3182.2526 - mean_absolute_error: 46.7380 - mean_squared_error: 3182.2526 - val_loss: 3631.3925 - val_mean_absolute_error: 50.0984 - val_mean_squared_error: 3631.3925\n",
      "Epoch 62/400\n",
      "283/283 [==============================] - 0s 49us/step - loss: 3174.5827 - mean_absolute_error: 46.6513 - mean_squared_error: 3174.5827 - val_loss: 3617.3513 - val_mean_absolute_error: 49.9674 - val_mean_squared_error: 3617.3513\n",
      "Epoch 63/400\n",
      "283/283 [==============================] - 0s 43us/step - loss: 3162.6373 - mean_absolute_error: 46.5324 - mean_squared_error: 3162.6373 - val_loss: 3605.0288 - val_mean_absolute_error: 49.8058 - val_mean_squared_error: 3605.0288\n",
      "Epoch 64/400\n",
      "283/283 [==============================] - 0s 42us/step - loss: 3154.1648 - mean_absolute_error: 46.4353 - mean_squared_error: 3154.1648 - val_loss: 3592.1183 - val_mean_absolute_error: 49.6146 - val_mean_squared_error: 3592.1183\n",
      "Epoch 65/400\n",
      "283/283 [==============================] - 0s 37us/step - loss: 3146.9427 - mean_absolute_error: 46.3539 - mean_squared_error: 3146.9427 - val_loss: 3579.4356 - val_mean_absolute_error: 49.4380 - val_mean_squared_error: 3579.4356\n",
      "Epoch 66/400\n",
      "283/283 [==============================] - 0s 41us/step - loss: 3138.4774 - mean_absolute_error: 46.2877 - mean_squared_error: 3138.4774 - val_loss: 3565.1534 - val_mean_absolute_error: 49.3723 - val_mean_squared_error: 3565.1534\n"
     ]
    },
    {
     "name": "stdout",
     "output_type": "stream",
     "text": [
      "Epoch 67/400\n",
      "283/283 [==============================] - 0s 47us/step - loss: 3129.1438 - mean_absolute_error: 46.1929 - mean_squared_error: 3129.1438 - val_loss: 3552.9870 - val_mean_absolute_error: 49.2233 - val_mean_squared_error: 3552.9870\n",
      "Epoch 68/400\n",
      "283/283 [==============================] - 0s 50us/step - loss: 3123.5936 - mean_absolute_error: 46.1376 - mean_squared_error: 3123.5936 - val_loss: 3540.8286 - val_mean_absolute_error: 49.1169 - val_mean_squared_error: 3540.8286\n",
      "Epoch 69/400\n",
      "283/283 [==============================] - 0s 54us/step - loss: 3116.1239 - mean_absolute_error: 46.0659 - mean_squared_error: 3116.1239 - val_loss: 3530.6929 - val_mean_absolute_error: 48.9016 - val_mean_squared_error: 3530.6929\n",
      "Epoch 70/400\n",
      "283/283 [==============================] - 0s 75us/step - loss: 3105.6848 - mean_absolute_error: 45.9544 - mean_squared_error: 3105.6848 - val_loss: 3518.0823 - val_mean_absolute_error: 48.7991 - val_mean_squared_error: 3518.0823\n",
      "Epoch 71/400\n",
      "283/283 [==============================] - 0s 67us/step - loss: 3109.6262 - mean_absolute_error: 45.9632 - mean_squared_error: 3109.6262 - val_loss: 3504.6700 - val_mean_absolute_error: 48.7820 - val_mean_squared_error: 3504.6700\n",
      "Epoch 72/400\n",
      "283/283 [==============================] - 0s 51us/step - loss: 3095.2468 - mean_absolute_error: 45.8335 - mean_squared_error: 3095.2468 - val_loss: 3495.5512 - val_mean_absolute_error: 48.5255 - val_mean_squared_error: 3495.5512\n",
      "Epoch 73/400\n",
      "283/283 [==============================] - 0s 47us/step - loss: 3089.2068 - mean_absolute_error: 45.7470 - mean_squared_error: 3089.2068 - val_loss: 3488.5303 - val_mean_absolute_error: 48.3409 - val_mean_squared_error: 3488.5303\n",
      "Epoch 74/400\n",
      "283/283 [==============================] - 0s 44us/step - loss: 3085.9078 - mean_absolute_error: 45.7082 - mean_squared_error: 3085.9078 - val_loss: 3480.6652 - val_mean_absolute_error: 48.1637 - val_mean_squared_error: 3480.6652\n",
      "Epoch 75/400\n",
      "283/283 [==============================] - 0s 50us/step - loss: 3075.5890 - mean_absolute_error: 45.5869 - mean_squared_error: 3075.5890 - val_loss: 3465.8508 - val_mean_absolute_error: 48.1329 - val_mean_squared_error: 3465.8508\n",
      "Epoch 76/400\n",
      "283/283 [==============================] - 0s 48us/step - loss: 3069.1759 - mean_absolute_error: 45.5321 - mean_squared_error: 3069.1759 - val_loss: 3455.7404 - val_mean_absolute_error: 48.0146 - val_mean_squared_error: 3455.7404\n",
      "Epoch 77/400\n",
      "283/283 [==============================] - 0s 46us/step - loss: 3064.2877 - mean_absolute_error: 45.4841 - mean_squared_error: 3064.2877 - val_loss: 3445.2927 - val_mean_absolute_error: 47.9334 - val_mean_squared_error: 3445.2927\n",
      "Epoch 78/400\n",
      "283/283 [==============================] - 0s 44us/step - loss: 3059.5492 - mean_absolute_error: 45.4219 - mean_squared_error: 3059.5492 - val_loss: 3434.9050 - val_mean_absolute_error: 47.8131 - val_mean_squared_error: 3434.9050\n",
      "Epoch 79/400\n",
      "283/283 [==============================] - 0s 46us/step - loss: 3054.3019 - mean_absolute_error: 45.3576 - mean_squared_error: 3054.3019 - val_loss: 3424.1973 - val_mean_absolute_error: 47.7070 - val_mean_squared_error: 3424.1973\n",
      "Epoch 80/400\n",
      "283/283 [==============================] - 0s 45us/step - loss: 3049.4845 - mean_absolute_error: 45.3013 - mean_squared_error: 3049.4845 - val_loss: 3417.1395 - val_mean_absolute_error: 47.5196 - val_mean_squared_error: 3417.1395\n",
      "Epoch 81/400\n",
      "283/283 [==============================] - 0s 42us/step - loss: 3043.9009 - mean_absolute_error: 45.2257 - mean_squared_error: 3043.9009 - val_loss: 3410.3111 - val_mean_absolute_error: 47.4000 - val_mean_squared_error: 3410.3111\n",
      "Epoch 82/400\n",
      "283/283 [==============================] - 0s 55us/step - loss: 3040.5152 - mean_absolute_error: 45.1811 - mean_squared_error: 3040.5152 - val_loss: 3402.5861 - val_mean_absolute_error: 47.2696 - val_mean_squared_error: 3402.5861\n",
      "Epoch 83/400\n",
      "283/283 [==============================] - 0s 55us/step - loss: 3041.2282 - mean_absolute_error: 45.1637 - mean_squared_error: 3041.2282 - val_loss: 3396.6485 - val_mean_absolute_error: 47.1039 - val_mean_squared_error: 3396.6485\n",
      "Epoch 84/400\n",
      "283/283 [==============================] - 0s 62us/step - loss: 3036.0020 - mean_absolute_error: 45.1222 - mean_squared_error: 3036.0020 - val_loss: 3383.7088 - val_mean_absolute_error: 47.1361 - val_mean_squared_error: 3383.7088\n",
      "Epoch 85/400\n",
      "283/283 [==============================] - 0s 58us/step - loss: 3028.9240 - mean_absolute_error: 45.0619 - mean_squared_error: 3028.9240 - val_loss: 3377.0563 - val_mean_absolute_error: 47.0221 - val_mean_squared_error: 3377.0563\n",
      "Epoch 86/400\n",
      "283/283 [==============================] - 0s 54us/step - loss: 3028.5102 - mean_absolute_error: 45.0284 - mean_squared_error: 3028.5102 - val_loss: 3373.7222 - val_mean_absolute_error: 46.8118 - val_mean_squared_error: 3373.7222\n",
      "Epoch 87/400\n",
      "283/283 [==============================] - 0s 50us/step - loss: 3020.7191 - mean_absolute_error: 44.9576 - mean_squared_error: 3020.7191 - val_loss: 3368.4198 - val_mean_absolute_error: 46.7372 - val_mean_squared_error: 3368.4198\n",
      "Epoch 88/400\n",
      "283/283 [==============================] - 0s 55us/step - loss: 3021.8777 - mean_absolute_error: 44.9613 - mean_squared_error: 3021.8777 - val_loss: 3354.9502 - val_mean_absolute_error: 46.7539 - val_mean_squared_error: 3354.9502\n",
      "Epoch 89/400\n",
      "283/283 [==============================] - 0s 48us/step - loss: 3014.6185 - mean_absolute_error: 44.9069 - mean_squared_error: 3014.6185 - val_loss: 3347.9728 - val_mean_absolute_error: 46.6425 - val_mean_squared_error: 3347.9728\n",
      "Epoch 90/400\n",
      "283/283 [==============================] - 0s 45us/step - loss: 3012.4759 - mean_absolute_error: 44.8782 - mean_squared_error: 3012.4759 - val_loss: 3339.8181 - val_mean_absolute_error: 46.5664 - val_mean_squared_error: 3339.8181\n",
      "Epoch 91/400\n",
      "283/283 [==============================] - 0s 45us/step - loss: 3010.3087 - mean_absolute_error: 44.8545 - mean_squared_error: 3010.3087 - val_loss: 3335.0821 - val_mean_absolute_error: 46.4328 - val_mean_squared_error: 3335.0821\n",
      "Epoch 92/400\n",
      "283/283 [==============================] - 0s 47us/step - loss: 3005.6090 - mean_absolute_error: 44.7948 - mean_squared_error: 3005.6090 - val_loss: 3330.1587 - val_mean_absolute_error: 46.3449 - val_mean_squared_error: 3330.1587\n",
      "Epoch 93/400\n",
      "283/283 [==============================] - 0s 47us/step - loss: 3006.5065 - mean_absolute_error: 44.7890 - mean_squared_error: 3006.5065 - val_loss: 3325.6722 - val_mean_absolute_error: 46.2152 - val_mean_squared_error: 3325.6722\n",
      "Epoch 94/400\n",
      "283/283 [==============================] - 0s 46us/step - loss: 3000.8866 - mean_absolute_error: 44.7401 - mean_squared_error: 3000.8866 - val_loss: 3316.4720 - val_mean_absolute_error: 46.1698 - val_mean_squared_error: 3316.4720\n",
      "Epoch 95/400\n",
      "283/283 [==============================] - 0s 43us/step - loss: 2999.7552 - mean_absolute_error: 44.7300 - mean_squared_error: 2999.7552 - val_loss: 3311.8797 - val_mean_absolute_error: 46.0847 - val_mean_squared_error: 3311.8797\n",
      "Epoch 96/400\n",
      "283/283 [==============================] - 0s 39us/step - loss: 2997.4357 - mean_absolute_error: 44.7152 - mean_squared_error: 2997.4357 - val_loss: 3300.0571 - val_mean_absolute_error: 46.0645 - val_mean_squared_error: 3300.0571\n",
      "Epoch 97/400\n",
      "283/283 [==============================] - 0s 54us/step - loss: 2993.2112 - mean_absolute_error: 44.6742 - mean_squared_error: 2993.2112 - val_loss: 3298.4971 - val_mean_absolute_error: 45.9722 - val_mean_squared_error: 3298.4971\n",
      "Epoch 98/400\n",
      "283/283 [==============================] - 0s 48us/step - loss: 2991.3951 - mean_absolute_error: 44.6564 - mean_squared_error: 2991.3951 - val_loss: 3290.5009 - val_mean_absolute_error: 45.9017 - val_mean_squared_error: 3290.5009\n",
      "Epoch 99/400\n",
      "283/283 [==============================] - 0s 47us/step - loss: 2988.7920 - mean_absolute_error: 44.6314 - mean_squared_error: 2988.7920 - val_loss: 3285.7344 - val_mean_absolute_error: 45.8266 - val_mean_squared_error: 3285.7344\n",
      "Epoch 100/400\n",
      "283/283 [==============================] - 0s 44us/step - loss: 2987.0921 - mean_absolute_error: 44.6164 - mean_squared_error: 2987.0921 - val_loss: 3282.3273 - val_mean_absolute_error: 45.7488 - val_mean_squared_error: 3282.3273\n"
     ]
    },
    {
     "name": "stdout",
     "output_type": "stream",
     "text": [
      "Epoch 101/400\n",
      "283/283 [==============================] - 0s 51us/step - loss: 2986.4286 - mean_absolute_error: 44.5926 - mean_squared_error: 2986.4286 - val_loss: 3280.9157 - val_mean_absolute_error: 45.6539 - val_mean_squared_error: 3280.9157\n",
      "Epoch 102/400\n",
      "283/283 [==============================] - 0s 53us/step - loss: 2984.0070 - mean_absolute_error: 44.5769 - mean_squared_error: 2984.0070 - val_loss: 3275.1454 - val_mean_absolute_error: 45.5974 - val_mean_squared_error: 3275.1454\n",
      "Epoch 103/400\n",
      "283/283 [==============================] - 0s 49us/step - loss: 2981.3065 - mean_absolute_error: 44.5546 - mean_squared_error: 2981.3065 - val_loss: 3265.2692 - val_mean_absolute_error: 45.5818 - val_mean_squared_error: 3265.2692\n",
      "Epoch 104/400\n",
      "283/283 [==============================] - 0s 41us/step - loss: 2978.8764 - mean_absolute_error: 44.5389 - mean_squared_error: 2978.8764 - val_loss: 3259.8445 - val_mean_absolute_error: 45.5335 - val_mean_squared_error: 3259.8445\n",
      "Epoch 105/400\n",
      "283/283 [==============================] - 0s 48us/step - loss: 2978.7660 - mean_absolute_error: 44.5376 - mean_squared_error: 2978.7660 - val_loss: 3254.3678 - val_mean_absolute_error: 45.4756 - val_mean_squared_error: 3254.3678\n",
      "Epoch 106/400\n",
      "283/283 [==============================] - 0s 52us/step - loss: 2978.3079 - mean_absolute_error: 44.5287 - mean_squared_error: 2978.3079 - val_loss: 3250.2915 - val_mean_absolute_error: 45.4267 - val_mean_squared_error: 3250.2915\n",
      "Epoch 107/400\n",
      "283/283 [==============================] - 0s 43us/step - loss: 2976.6389 - mean_absolute_error: 44.5356 - mean_squared_error: 2976.6389 - val_loss: 3251.0394 - val_mean_absolute_error: 45.3233 - val_mean_squared_error: 3251.0394\n",
      "Epoch 108/400\n",
      "283/283 [==============================] - 0s 43us/step - loss: 2975.9733 - mean_absolute_error: 44.5107 - mean_squared_error: 2975.9733 - val_loss: 3250.4065 - val_mean_absolute_error: 45.2525 - val_mean_squared_error: 3250.4065\n",
      "Epoch 109/400\n",
      "283/283 [==============================] - 0s 45us/step - loss: 2972.8758 - mean_absolute_error: 44.4728 - mean_squared_error: 2972.8758 - val_loss: 3241.5010 - val_mean_absolute_error: 45.2261 - val_mean_squared_error: 3241.5010\n",
      "Epoch 110/400\n",
      "283/283 [==============================] - 0s 44us/step - loss: 2972.0284 - mean_absolute_error: 44.4757 - mean_squared_error: 2972.0284 - val_loss: 3232.8593 - val_mean_absolute_error: 45.2186 - val_mean_squared_error: 3232.8593\n",
      "Epoch 111/400\n",
      "283/283 [==============================] - 0s 49us/step - loss: 2970.7543 - mean_absolute_error: 44.4655 - mean_squared_error: 2970.7543 - val_loss: 3230.6277 - val_mean_absolute_error: 45.1481 - val_mean_squared_error: 3230.6277\n",
      "Epoch 112/400\n",
      "283/283 [==============================] - 0s 50us/step - loss: 2970.2918 - mean_absolute_error: 44.4638 - mean_squared_error: 2970.2918 - val_loss: 3226.0235 - val_mean_absolute_error: 45.1244 - val_mean_squared_error: 3226.0235\n",
      "Epoch 113/400\n",
      "283/283 [==============================] - 0s 49us/step - loss: 2967.9583 - mean_absolute_error: 44.4386 - mean_squared_error: 2967.9583 - val_loss: 3221.2842 - val_mean_absolute_error: 45.0657 - val_mean_squared_error: 3221.2842\n",
      "Epoch 114/400\n",
      "283/283 [==============================] - 0s 49us/step - loss: 2966.4787 - mean_absolute_error: 44.4178 - mean_squared_error: 2966.4787 - val_loss: 3222.8535 - val_mean_absolute_error: 44.9973 - val_mean_squared_error: 3222.8535\n",
      "Epoch 115/400\n",
      "283/283 [==============================] - 0s 44us/step - loss: 2964.7662 - mean_absolute_error: 44.3860 - mean_squared_error: 2964.7662 - val_loss: 3221.8428 - val_mean_absolute_error: 44.9337 - val_mean_squared_error: 3221.8428\n",
      "Epoch 116/400\n",
      "283/283 [==============================] - 0s 45us/step - loss: 2964.3001 - mean_absolute_error: 44.3836 - mean_squared_error: 2964.3001 - val_loss: 3219.9122 - val_mean_absolute_error: 44.8781 - val_mean_squared_error: 3219.9122\n",
      "Epoch 117/400\n",
      "283/283 [==============================] - 0s 59us/step - loss: 2963.0388 - mean_absolute_error: 44.3685 - mean_squared_error: 2963.0388 - val_loss: 3211.9537 - val_mean_absolute_error: 44.8593 - val_mean_squared_error: 3211.9537\n",
      "Epoch 118/400\n",
      "283/283 [==============================] - 0s 45us/step - loss: 2962.8969 - mean_absolute_error: 44.3669 - mean_squared_error: 2962.8969 - val_loss: 3209.1008 - val_mean_absolute_error: 44.8394 - val_mean_squared_error: 3209.1008\n",
      "Epoch 119/400\n",
      "283/283 [==============================] - 0s 39us/step - loss: 2962.4114 - mean_absolute_error: 44.3669 - mean_squared_error: 2962.4114 - val_loss: 3203.5151 - val_mean_absolute_error: 44.7720 - val_mean_squared_error: 3203.5151\n",
      "Epoch 120/400\n",
      "283/283 [==============================] - 0s 43us/step - loss: 2960.4226 - mean_absolute_error: 44.3376 - mean_squared_error: 2960.4226 - val_loss: 3201.2600 - val_mean_absolute_error: 44.7492 - val_mean_squared_error: 3201.2600\n",
      "Epoch 121/400\n",
      "283/283 [==============================] - 0s 40us/step - loss: 2961.5780 - mean_absolute_error: 44.3417 - mean_squared_error: 2961.5780 - val_loss: 3200.7578 - val_mean_absolute_error: 44.6915 - val_mean_squared_error: 3200.7578\n",
      "Epoch 122/400\n",
      "283/283 [==============================] - 0s 41us/step - loss: 2959.9439 - mean_absolute_error: 44.3346 - mean_squared_error: 2959.9439 - val_loss: 3192.2538 - val_mean_absolute_error: 44.6786 - val_mean_squared_error: 3192.2538\n",
      "Epoch 123/400\n",
      "283/283 [==============================] - 0s 39us/step - loss: 2959.4069 - mean_absolute_error: 44.3289 - mean_squared_error: 2959.4069 - val_loss: 3194.7341 - val_mean_absolute_error: 44.6227 - val_mean_squared_error: 3194.7341\n",
      "Epoch 124/400\n",
      "283/283 [==============================] - 0s 39us/step - loss: 2958.0843 - mean_absolute_error: 44.3148 - mean_squared_error: 2958.0843 - val_loss: 3187.8934 - val_mean_absolute_error: 44.6068 - val_mean_squared_error: 3187.8934\n",
      "Epoch 125/400\n",
      "283/283 [==============================] - 0s 42us/step - loss: 2959.5712 - mean_absolute_error: 44.3370 - mean_squared_error: 2959.5712 - val_loss: 3182.2507 - val_mean_absolute_error: 44.6058 - val_mean_squared_error: 3182.2507\n",
      "Epoch 126/400\n",
      "283/283 [==============================] - 0s 42us/step - loss: 2962.8342 - mean_absolute_error: 44.3239 - mean_squared_error: 2962.8342 - val_loss: 3191.6776 - val_mean_absolute_error: 44.4934 - val_mean_squared_error: 3191.6776\n",
      "Epoch 127/400\n",
      "283/283 [==============================] - 0s 46us/step - loss: 2955.2982 - mean_absolute_error: 44.2643 - mean_squared_error: 2955.2982 - val_loss: 3183.3227 - val_mean_absolute_error: 44.4875 - val_mean_squared_error: 3183.3227\n",
      "Epoch 128/400\n",
      "283/283 [==============================] - 0s 44us/step - loss: 2956.0536 - mean_absolute_error: 44.2922 - mean_squared_error: 2956.0536 - val_loss: 3178.7786 - val_mean_absolute_error: 44.4717 - val_mean_squared_error: 3178.7786\n",
      "Epoch 129/400\n",
      "283/283 [==============================] - 0s 37us/step - loss: 2954.9291 - mean_absolute_error: 44.2898 - mean_squared_error: 2954.9291 - val_loss: 3172.8353 - val_mean_absolute_error: 44.4799 - val_mean_squared_error: 3172.8353\n",
      "Epoch 130/400\n",
      "283/283 [==============================] - 0s 48us/step - loss: 2954.2258 - mean_absolute_error: 44.2663 - mean_squared_error: 2954.2258 - val_loss: 3177.1371 - val_mean_absolute_error: 44.3974 - val_mean_squared_error: 3177.1371\n",
      "Epoch 131/400\n",
      "283/283 [==============================] - 0s 42us/step - loss: 2952.9851 - mean_absolute_error: 44.2540 - mean_squared_error: 2952.9851 - val_loss: 3176.7953 - val_mean_absolute_error: 44.3638 - val_mean_squared_error: 3176.7953\n",
      "Epoch 132/400\n",
      "283/283 [==============================] - 0s 43us/step - loss: 2953.3354 - mean_absolute_error: 44.2562 - mean_squared_error: 2953.3354 - val_loss: 3171.1175 - val_mean_absolute_error: 44.3541 - val_mean_squared_error: 3171.1175\n",
      "Epoch 133/400\n",
      "283/283 [==============================] - 0s 49us/step - loss: 2953.5661 - mean_absolute_error: 44.2569 - mean_squared_error: 2953.5661 - val_loss: 3174.7289 - val_mean_absolute_error: 44.3173 - val_mean_squared_error: 3174.7289\n",
      "Epoch 134/400\n"
     ]
    },
    {
     "name": "stdout",
     "output_type": "stream",
     "text": [
      "283/283 [==============================] - 0s 43us/step - loss: 2952.1628 - mean_absolute_error: 44.2411 - mean_squared_error: 2952.1628 - val_loss: 3170.5716 - val_mean_absolute_error: 44.2867 - val_mean_squared_error: 3170.5716\n",
      "Epoch 135/400\n",
      "283/283 [==============================] - 0s 46us/step - loss: 2951.7471 - mean_absolute_error: 44.2441 - mean_squared_error: 2951.7471 - val_loss: 3163.5449 - val_mean_absolute_error: 44.2818 - val_mean_squared_error: 3163.5449\n",
      "Epoch 136/400\n",
      "283/283 [==============================] - 0s 47us/step - loss: 2950.7921 - mean_absolute_error: 44.2316 - mean_squared_error: 2950.7921 - val_loss: 3163.3497 - val_mean_absolute_error: 44.2669 - val_mean_squared_error: 3163.3497\n",
      "Epoch 137/400\n",
      "283/283 [==============================] - 0s 45us/step - loss: 2949.9561 - mean_absolute_error: 44.2247 - mean_squared_error: 2949.9561 - val_loss: 3163.6224 - val_mean_absolute_error: 44.2106 - val_mean_squared_error: 3163.6224\n",
      "Epoch 138/400\n",
      "283/283 [==============================] - 0s 40us/step - loss: 2949.3111 - mean_absolute_error: 44.2133 - mean_squared_error: 2949.3111 - val_loss: 3160.1586 - val_mean_absolute_error: 44.1973 - val_mean_squared_error: 3160.1586\n",
      "Epoch 139/400\n",
      "283/283 [==============================] - 0s 51us/step - loss: 2957.0705 - mean_absolute_error: 44.2161 - mean_squared_error: 2957.0705 - val_loss: 3165.9623 - val_mean_absolute_error: 44.1464 - val_mean_squared_error: 3165.9623\n",
      "Epoch 140/400\n",
      "283/283 [==============================] - 0s 46us/step - loss: 2949.1145 - mean_absolute_error: 44.1985 - mean_squared_error: 2949.1145 - val_loss: 3154.3892 - val_mean_absolute_error: 44.1588 - val_mean_squared_error: 3154.3892\n",
      "Epoch 141/400\n",
      "283/283 [==============================] - 0s 39us/step - loss: 2947.8835 - mean_absolute_error: 44.1945 - mean_squared_error: 2947.8835 - val_loss: 3153.6925 - val_mean_absolute_error: 44.1346 - val_mean_squared_error: 3153.6925\n",
      "Epoch 142/400\n",
      "283/283 [==============================] - 0s 40us/step - loss: 2947.4374 - mean_absolute_error: 44.1912 - mean_squared_error: 2947.4374 - val_loss: 3149.4638 - val_mean_absolute_error: 44.1176 - val_mean_squared_error: 3149.4638\n",
      "Epoch 143/400\n",
      "283/283 [==============================] - 0s 43us/step - loss: 2947.6313 - mean_absolute_error: 44.1895 - mean_squared_error: 2947.6313 - val_loss: 3149.1173 - val_mean_absolute_error: 44.1011 - val_mean_squared_error: 3149.1173\n",
      "Epoch 144/400\n",
      "283/283 [==============================] - 0s 40us/step - loss: 2949.3577 - mean_absolute_error: 44.1942 - mean_squared_error: 2949.3577 - val_loss: 3151.7824 - val_mean_absolute_error: 44.0560 - val_mean_squared_error: 3151.7824\n",
      "Epoch 145/400\n",
      "283/283 [==============================] - 0s 39us/step - loss: 2955.6577 - mean_absolute_error: 44.2456 - mean_squared_error: 2955.6577 - val_loss: 3137.6168 - val_mean_absolute_error: 44.1044 - val_mean_squared_error: 3137.6168\n",
      "Epoch 146/400\n",
      "283/283 [==============================] - 0s 50us/step - loss: 2944.1169 - mean_absolute_error: 44.1632 - mean_squared_error: 2944.1169 - val_loss: 3144.3086 - val_mean_absolute_error: 44.0357 - val_mean_squared_error: 3144.3086\n",
      "Epoch 147/400\n",
      "283/283 [==============================] - 0s 44us/step - loss: 2945.8168 - mean_absolute_error: 44.1564 - mean_squared_error: 2945.8168 - val_loss: 3155.8585 - val_mean_absolute_error: 43.9530 - val_mean_squared_error: 3155.8585\n",
      "Epoch 148/400\n",
      "283/283 [==============================] - 0s 38us/step - loss: 2947.2291 - mean_absolute_error: 44.1392 - mean_squared_error: 2947.2291 - val_loss: 3153.7292 - val_mean_absolute_error: 43.9309 - val_mean_squared_error: 3153.7292\n",
      "Epoch 149/400\n",
      "283/283 [==============================] - 0s 47us/step - loss: 2945.1920 - mean_absolute_error: 44.1297 - mean_squared_error: 2945.1920 - val_loss: 3148.0026 - val_mean_absolute_error: 43.9327 - val_mean_squared_error: 3148.0026\n",
      "Epoch 150/400\n",
      "283/283 [==============================] - 0s 50us/step - loss: 2948.4461 - mean_absolute_error: 44.1263 - mean_squared_error: 2948.4461 - val_loss: 3151.3467 - val_mean_absolute_error: 43.9166 - val_mean_squared_error: 3151.3467\n",
      "Epoch 151/400\n",
      "283/283 [==============================] - 0s 45us/step - loss: 2942.8970 - mean_absolute_error: 44.1109 - mean_squared_error: 2942.8970 - val_loss: 3135.9137 - val_mean_absolute_error: 43.9561 - val_mean_squared_error: 3135.9137\n",
      "Epoch 152/400\n",
      "283/283 [==============================] - 0s 49us/step - loss: 2945.0891 - mean_absolute_error: 44.1676 - mean_squared_error: 2945.0891 - val_loss: 3127.9329 - val_mean_absolute_error: 43.9728 - val_mean_squared_error: 3127.9329\n",
      "Epoch 153/400\n",
      "283/283 [==============================] - 0s 46us/step - loss: 2944.1185 - mean_absolute_error: 44.1515 - mean_squared_error: 2944.1185 - val_loss: 3131.5626 - val_mean_absolute_error: 43.9273 - val_mean_squared_error: 3131.5626\n",
      "Epoch 154/400\n",
      "283/283 [==============================] - 0s 44us/step - loss: 2944.3978 - mean_absolute_error: 44.1423 - mean_squared_error: 2944.3978 - val_loss: 3129.6592 - val_mean_absolute_error: 43.9180 - val_mean_squared_error: 3129.6592\n",
      "Epoch 155/400\n",
      "283/283 [==============================] - 0s 44us/step - loss: 2944.0759 - mean_absolute_error: 44.1250 - mean_squared_error: 2944.0759 - val_loss: 3136.2669 - val_mean_absolute_error: 43.8616 - val_mean_squared_error: 3136.2669\n",
      "Epoch 156/400\n",
      "283/283 [==============================] - 0s 57us/step - loss: 2942.8103 - mean_absolute_error: 44.1116 - mean_squared_error: 2942.8103 - val_loss: 3134.5900 - val_mean_absolute_error: 43.8352 - val_mean_squared_error: 3134.5900\n",
      "Epoch 157/400\n",
      "283/283 [==============================] - 0s 55us/step - loss: 2943.1632 - mean_absolute_error: 44.1232 - mean_squared_error: 2943.1632 - val_loss: 3131.3201 - val_mean_absolute_error: 43.8346 - val_mean_squared_error: 3131.3201\n",
      "Epoch 158/400\n",
      "283/283 [==============================] - 0s 44us/step - loss: 2941.6737 - mean_absolute_error: 44.1118 - mean_squared_error: 2941.6737 - val_loss: 3128.4585 - val_mean_absolute_error: 43.8276 - val_mean_squared_error: 3128.4585\n",
      "Epoch 159/400\n",
      "283/283 [==============================] - 0s 45us/step - loss: 2942.6301 - mean_absolute_error: 44.1058 - mean_squared_error: 2942.6301 - val_loss: 3125.1368 - val_mean_absolute_error: 43.8157 - val_mean_squared_error: 3125.1368\n",
      "Epoch 160/400\n",
      "283/283 [==============================] - 0s 53us/step - loss: 2943.2927 - mean_absolute_error: 44.1161 - mean_squared_error: 2943.2927 - val_loss: 3126.6101 - val_mean_absolute_error: 43.8146 - val_mean_squared_error: 3126.6101\n",
      "Epoch 161/400\n",
      "283/283 [==============================] - 0s 53us/step - loss: 2942.3790 - mean_absolute_error: 44.1050 - mean_squared_error: 2942.3790 - val_loss: 3122.8681 - val_mean_absolute_error: 43.8026 - val_mean_squared_error: 3122.8681\n",
      "Epoch 162/400\n",
      "283/283 [==============================] - 0s 51us/step - loss: 2941.7440 - mean_absolute_error: 44.0996 - mean_squared_error: 2941.7440 - val_loss: 3129.0847 - val_mean_absolute_error: 43.7540 - val_mean_squared_error: 3129.0847\n",
      "Epoch 163/400\n",
      "283/283 [==============================] - 0s 41us/step - loss: 2940.9428 - mean_absolute_error: 44.0840 - mean_squared_error: 2940.9428 - val_loss: 3128.0320 - val_mean_absolute_error: 43.7465 - val_mean_squared_error: 3128.0320\n",
      "Epoch 164/400\n",
      "283/283 [==============================] - 0s 52us/step - loss: 2942.9717 - mean_absolute_error: 44.0859 - mean_squared_error: 2942.9717 - val_loss: 3128.8232 - val_mean_absolute_error: 43.7278 - val_mean_squared_error: 3128.8232\n",
      "Epoch 165/400\n",
      "283/283 [==============================] - 0s 47us/step - loss: 2950.2964 - mean_absolute_error: 44.1782 - mean_squared_error: 2950.2964 - val_loss: 3111.4714 - val_mean_absolute_error: 43.7803 - val_mean_squared_error: 3111.4714\n",
      "Epoch 166/400\n",
      "283/283 [==============================] - 0s 45us/step - loss: 2940.0765 - mean_absolute_error: 44.0961 - mean_squared_error: 2940.0765 - val_loss: 3118.4494 - val_mean_absolute_error: 43.7258 - val_mean_squared_error: 3118.4494\n",
      "Epoch 167/400\n",
      "283/283 [==============================] - 0s 38us/step - loss: 2941.9318 - mean_absolute_error: 44.0905 - mean_squared_error: 2941.9318 - val_loss: 3125.1836 - val_mean_absolute_error: 43.6905 - val_mean_squared_error: 3125.1836\n"
     ]
    },
    {
     "name": "stdout",
     "output_type": "stream",
     "text": [
      "Epoch 168/400\n",
      "283/283 [==============================] - 0s 43us/step - loss: 2941.9653 - mean_absolute_error: 44.0808 - mean_squared_error: 2941.9653 - val_loss: 3117.6894 - val_mean_absolute_error: 43.7075 - val_mean_squared_error: 3117.6894\n",
      "Epoch 169/400\n",
      "283/283 [==============================] - 0s 43us/step - loss: 2941.4515 - mean_absolute_error: 44.0911 - mean_squared_error: 2941.4515 - val_loss: 3113.4586 - val_mean_absolute_error: 43.7175 - val_mean_squared_error: 3113.4586\n",
      "Epoch 170/400\n",
      "283/283 [==============================] - 0s 53us/step - loss: 2939.3646 - mean_absolute_error: 44.0785 - mean_squared_error: 2939.3646 - val_loss: 3116.8635 - val_mean_absolute_error: 43.6735 - val_mean_squared_error: 3116.8635\n",
      "Epoch 171/400\n",
      "283/283 [==============================] - 0s 46us/step - loss: 2939.7837 - mean_absolute_error: 44.0722 - mean_squared_error: 2939.7837 - val_loss: 3122.5085 - val_mean_absolute_error: 43.6633 - val_mean_squared_error: 3122.5085\n",
      "Epoch 172/400\n",
      "283/283 [==============================] - 0s 44us/step - loss: 2939.0325 - mean_absolute_error: 44.0466 - mean_squared_error: 2939.0325 - val_loss: 3123.6637 - val_mean_absolute_error: 43.6506 - val_mean_squared_error: 3123.6637\n",
      "Epoch 173/400\n",
      "283/283 [==============================] - 0s 42us/step - loss: 2938.1743 - mean_absolute_error: 44.0366 - mean_squared_error: 2938.1743 - val_loss: 3120.4275 - val_mean_absolute_error: 43.6365 - val_mean_squared_error: 3120.4275\n",
      "Epoch 174/400\n",
      "283/283 [==============================] - 0s 50us/step - loss: 2944.4587 - mean_absolute_error: 44.0889 - mean_squared_error: 2944.4587 - val_loss: 3106.2743 - val_mean_absolute_error: 43.6883 - val_mean_squared_error: 3106.2743\n",
      "Epoch 175/400\n",
      "283/283 [==============================] - 0s 45us/step - loss: 2939.9114 - mean_absolute_error: 44.0824 - mean_squared_error: 2939.9114 - val_loss: 3104.7246 - val_mean_absolute_error: 43.6806 - val_mean_squared_error: 3104.7246\n",
      "Epoch 176/400\n",
      "283/283 [==============================] - 0s 56us/step - loss: 2938.9814 - mean_absolute_error: 44.0536 - mean_squared_error: 2938.9814 - val_loss: 3120.3276 - val_mean_absolute_error: 43.6252 - val_mean_squared_error: 3120.3276\n",
      "Epoch 177/400\n",
      "283/283 [==============================] - 0s 61us/step - loss: 2940.2623 - mean_absolute_error: 44.0516 - mean_squared_error: 2940.2623 - val_loss: 3125.2100 - val_mean_absolute_error: 43.5933 - val_mean_squared_error: 3125.2100\n",
      "Epoch 178/400\n",
      "283/283 [==============================] - 0s 43us/step - loss: 2939.2393 - mean_absolute_error: 44.0643 - mean_squared_error: 2939.2393 - val_loss: 3114.6759 - val_mean_absolute_error: 43.6186 - val_mean_squared_error: 3114.6759\n",
      "Epoch 179/400\n",
      "283/283 [==============================] - 0s 47us/step - loss: 2936.6027 - mean_absolute_error: 44.0445 - mean_squared_error: 2936.6027 - val_loss: 3108.3588 - val_mean_absolute_error: 43.6392 - val_mean_squared_error: 3108.3588\n",
      "Epoch 180/400\n",
      "283/283 [==============================] - 0s 43us/step - loss: 2939.9882 - mean_absolute_error: 44.0895 - mean_squared_error: 2939.9882 - val_loss: 3101.9484 - val_mean_absolute_error: 43.6467 - val_mean_squared_error: 3101.9484\n",
      "Epoch 181/400\n",
      "283/283 [==============================] - 0s 49us/step - loss: 2939.7602 - mean_absolute_error: 44.0372 - mean_squared_error: 2939.7602 - val_loss: 3113.5802 - val_mean_absolute_error: 43.5907 - val_mean_squared_error: 3113.5802\n",
      "Epoch 182/400\n",
      "283/283 [==============================] - 0s 38us/step - loss: 2938.4204 - mean_absolute_error: 44.0204 - mean_squared_error: 2938.4204 - val_loss: 3115.1124 - val_mean_absolute_error: 43.5925 - val_mean_squared_error: 3115.1124\n",
      "Epoch 183/400\n",
      "283/283 [==============================] - 0s 56us/step - loss: 2940.7662 - mean_absolute_error: 44.0552 - mean_squared_error: 2940.7662 - val_loss: 3102.2257 - val_mean_absolute_error: 43.6356 - val_mean_squared_error: 3102.2257\n",
      "Epoch 184/400\n",
      "283/283 [==============================] - 0s 41us/step - loss: 2936.6328 - mean_absolute_error: 44.0628 - mean_squared_error: 2936.6328 - val_loss: 3098.7192 - val_mean_absolute_error: 43.6382 - val_mean_squared_error: 3098.7192\n",
      "Epoch 185/400\n",
      "283/283 [==============================] - 0s 52us/step - loss: 2934.5773 - mean_absolute_error: 44.0225 - mean_squared_error: 2934.5773 - val_loss: 3106.5830 - val_mean_absolute_error: 43.5773 - val_mean_squared_error: 3106.5830\n",
      "Epoch 186/400\n",
      "283/283 [==============================] - 0s 49us/step - loss: 2934.5945 - mean_absolute_error: 43.9996 - mean_squared_error: 2934.5945 - val_loss: 3113.0790 - val_mean_absolute_error: 43.5554 - val_mean_squared_error: 3113.0790\n",
      "Epoch 187/400\n",
      "283/283 [==============================] - 0s 46us/step - loss: 2934.6772 - mean_absolute_error: 43.9966 - mean_squared_error: 2934.6772 - val_loss: 3113.5845 - val_mean_absolute_error: 43.5351 - val_mean_squared_error: 3113.5845\n",
      "Epoch 188/400\n",
      "283/283 [==============================] - 0s 56us/step - loss: 2935.2561 - mean_absolute_error: 44.0036 - mean_squared_error: 2935.2561 - val_loss: 3109.0368 - val_mean_absolute_error: 43.5562 - val_mean_squared_error: 3109.0368\n",
      "Epoch 189/400\n",
      "283/283 [==============================] - 0s 41us/step - loss: 2933.5625 - mean_absolute_error: 44.0213 - mean_squared_error: 2933.5625 - val_loss: 3100.4850 - val_mean_absolute_error: 43.5748 - val_mean_squared_error: 3100.4850\n",
      "Epoch 190/400\n",
      "283/283 [==============================] - 0s 41us/step - loss: 2938.6441 - mean_absolute_error: 44.0403 - mean_squared_error: 2938.6441 - val_loss: 3105.8724 - val_mean_absolute_error: 43.5439 - val_mean_squared_error: 3105.8724\n",
      "Epoch 191/400\n",
      "283/283 [==============================] - 0s 41us/step - loss: 2934.4214 - mean_absolute_error: 44.0086 - mean_squared_error: 2934.4214 - val_loss: 3099.9808 - val_mean_absolute_error: 43.5683 - val_mean_squared_error: 3099.9808\n",
      "Epoch 192/400\n",
      "283/283 [==============================] - 0s 41us/step - loss: 2934.0173 - mean_absolute_error: 44.0167 - mean_squared_error: 2934.0173 - val_loss: 3098.7809 - val_mean_absolute_error: 43.5592 - val_mean_squared_error: 3098.7809\n",
      "Epoch 193/400\n",
      "283/283 [==============================] - 0s 42us/step - loss: 2932.8968 - mean_absolute_error: 44.0124 - mean_squared_error: 2932.8968 - val_loss: 3096.8336 - val_mean_absolute_error: 43.5602 - val_mean_squared_error: 3096.8336\n",
      "Epoch 194/400\n",
      "283/283 [==============================] - 0s 42us/step - loss: 2935.1762 - mean_absolute_error: 44.0152 - mean_squared_error: 2935.1762 - val_loss: 3102.0991 - val_mean_absolute_error: 43.5323 - val_mean_squared_error: 3102.0991\n",
      "Epoch 195/400\n",
      "283/283 [==============================] - 0s 42us/step - loss: 2931.9376 - mean_absolute_error: 43.9817 - mean_squared_error: 2931.9376 - val_loss: 3103.9085 - val_mean_absolute_error: 43.5192 - val_mean_squared_error: 3103.9085\n",
      "Epoch 196/400\n",
      "283/283 [==============================] - 0s 44us/step - loss: 2931.6406 - mean_absolute_error: 43.9922 - mean_squared_error: 2931.6406 - val_loss: 3096.5573 - val_mean_absolute_error: 43.5336 - val_mean_squared_error: 3096.5573\n",
      "Epoch 197/400\n",
      "283/283 [==============================] - 0s 43us/step - loss: 2932.2124 - mean_absolute_error: 43.9930 - mean_squared_error: 2932.2124 - val_loss: 3100.4683 - val_mean_absolute_error: 43.5149 - val_mean_squared_error: 3100.4683\n",
      "Epoch 198/400\n",
      "283/283 [==============================] - 0s 43us/step - loss: 2931.5175 - mean_absolute_error: 43.9969 - mean_squared_error: 2931.5175 - val_loss: 3097.3766 - val_mean_absolute_error: 43.5381 - val_mean_squared_error: 3097.3766\n",
      "Epoch 199/400\n",
      "283/283 [==============================] - 0s 51us/step - loss: 2931.0473 - mean_absolute_error: 43.9934 - mean_squared_error: 2931.0473 - val_loss: 3096.9765 - val_mean_absolute_error: 43.5372 - val_mean_squared_error: 3096.9765\n",
      "Epoch 200/400\n",
      "283/283 [==============================] - 0s 48us/step - loss: 2933.8565 - mean_absolute_error: 44.0301 - mean_squared_error: 2933.8565 - val_loss: 3096.5370 - val_mean_absolute_error: 43.5199 - val_mean_squared_error: 3096.5370\n",
      "Epoch 201/400\n"
     ]
    },
    {
     "name": "stdout",
     "output_type": "stream",
     "text": [
      "283/283 [==============================] - 0s 56us/step - loss: 2931.1380 - mean_absolute_error: 43.9900 - mean_squared_error: 2931.1380 - val_loss: 3096.9084 - val_mean_absolute_error: 43.5115 - val_mean_squared_error: 3096.9084\n",
      "Epoch 202/400\n",
      "283/283 [==============================] - 0s 50us/step - loss: 2934.0344 - mean_absolute_error: 43.9914 - mean_squared_error: 2934.0344 - val_loss: 3104.8654 - val_mean_absolute_error: 43.4604 - val_mean_squared_error: 3104.8654\n",
      "Epoch 203/400\n",
      "283/283 [==============================] - 0s 54us/step - loss: 2928.7145 - mean_absolute_error: 43.9527 - mean_squared_error: 2928.7145 - val_loss: 3101.5237 - val_mean_absolute_error: 43.4823 - val_mean_squared_error: 3101.5237\n",
      "Epoch 204/400\n",
      "283/283 [==============================] - 0s 53us/step - loss: 2931.6707 - mean_absolute_error: 43.9878 - mean_squared_error: 2931.6707 - val_loss: 3105.5508 - val_mean_absolute_error: 43.4834 - val_mean_squared_error: 3105.5508\n",
      "Epoch 205/400\n",
      "283/283 [==============================] - 0s 65us/step - loss: 2928.0990 - mean_absolute_error: 43.9501 - mean_squared_error: 2928.0990 - val_loss: 3091.6642 - val_mean_absolute_error: 43.5290 - val_mean_squared_error: 3091.6642\n",
      "Epoch 206/400\n",
      "283/283 [==============================] - 0s 48us/step - loss: 2929.8687 - mean_absolute_error: 43.9944 - mean_squared_error: 2929.8687 - val_loss: 3088.6707 - val_mean_absolute_error: 43.5355 - val_mean_squared_error: 3088.6707\n",
      "Epoch 207/400\n",
      "283/283 [==============================] - 0s 48us/step - loss: 2932.8688 - mean_absolute_error: 43.9904 - mean_squared_error: 2932.8688 - val_loss: 3102.2551 - val_mean_absolute_error: 43.4714 - val_mean_squared_error: 3102.2551\n",
      "Epoch 208/400\n",
      "283/283 [==============================] - 0s 49us/step - loss: 2928.1385 - mean_absolute_error: 43.9517 - mean_squared_error: 2928.1385 - val_loss: 3100.5758 - val_mean_absolute_error: 43.4720 - val_mean_squared_error: 3100.5758\n",
      "Epoch 209/400\n",
      "283/283 [==============================] - 0s 52us/step - loss: 2929.3713 - mean_absolute_error: 43.9629 - mean_squared_error: 2929.3713 - val_loss: 3087.5563 - val_mean_absolute_error: 43.5243 - val_mean_squared_error: 3087.5563\n",
      "Epoch 210/400\n",
      "283/283 [==============================] - 0s 63us/step - loss: 2928.2787 - mean_absolute_error: 43.9830 - mean_squared_error: 2928.2787 - val_loss: 3090.3695 - val_mean_absolute_error: 43.5142 - val_mean_squared_error: 3090.3695\n",
      "Epoch 211/400\n",
      "283/283 [==============================] - 0s 44us/step - loss: 2926.9101 - mean_absolute_error: 43.9597 - mean_squared_error: 2926.9101 - val_loss: 3094.2200 - val_mean_absolute_error: 43.4770 - val_mean_squared_error: 3094.2200\n",
      "Epoch 212/400\n",
      "283/283 [==============================] - 0s 48us/step - loss: 2927.0602 - mean_absolute_error: 43.9408 - mean_squared_error: 2927.0602 - val_loss: 3100.8794 - val_mean_absolute_error: 43.4478 - val_mean_squared_error: 3100.8794\n",
      "Epoch 213/400\n",
      "283/283 [==============================] - 0s 58us/step - loss: 2927.8413 - mean_absolute_error: 43.9309 - mean_squared_error: 2927.8413 - val_loss: 3101.2408 - val_mean_absolute_error: 43.4490 - val_mean_squared_error: 3101.2408\n",
      "Epoch 214/400\n",
      "283/283 [==============================] - 0s 46us/step - loss: 2926.5573 - mean_absolute_error: 43.9109 - mean_squared_error: 2926.5573 - val_loss: 3090.9466 - val_mean_absolute_error: 43.4628 - val_mean_squared_error: 3090.9466\n",
      "Epoch 215/400\n",
      "283/283 [==============================] - 0s 52us/step - loss: 2927.5117 - mean_absolute_error: 43.9724 - mean_squared_error: 2927.5117 - val_loss: 3089.6185 - val_mean_absolute_error: 43.4910 - val_mean_squared_error: 3089.6185\n",
      "Epoch 216/400\n",
      "283/283 [==============================] - 0s 46us/step - loss: 2930.2308 - mean_absolute_error: 43.9529 - mean_squared_error: 2930.2308 - val_loss: 3102.4444 - val_mean_absolute_error: 43.4405 - val_mean_squared_error: 3102.4444\n",
      "Epoch 217/400\n",
      "283/283 [==============================] - 0s 46us/step - loss: 2934.4258 - mean_absolute_error: 44.0134 - mean_squared_error: 2934.4258 - val_loss: 3082.1821 - val_mean_absolute_error: 43.5209 - val_mean_squared_error: 3082.1821\n",
      "Epoch 218/400\n",
      "283/283 [==============================] - 0s 46us/step - loss: 2925.0116 - mean_absolute_error: 43.9483 - mean_squared_error: 2925.0116 - val_loss: 3092.6859 - val_mean_absolute_error: 43.4509 - val_mean_squared_error: 3092.6859\n",
      "Epoch 219/400\n",
      "283/283 [==============================] - 0s 50us/step - loss: 2928.4803 - mean_absolute_error: 43.9621 - mean_squared_error: 2928.4803 - val_loss: 3089.3931 - val_mean_absolute_error: 43.4579 - val_mean_squared_error: 3089.3931\n",
      "Epoch 220/400\n",
      "283/283 [==============================] - 0s 51us/step - loss: 2930.7451 - mean_absolute_error: 43.9583 - mean_squared_error: 2930.7451 - val_loss: 3106.2342 - val_mean_absolute_error: 43.3909 - val_mean_squared_error: 3106.2342\n",
      "Epoch 221/400\n",
      "283/283 [==============================] - 0s 56us/step - loss: 2928.3464 - mean_absolute_error: 43.9391 - mean_squared_error: 2928.3464 - val_loss: 3094.9707 - val_mean_absolute_error: 43.4253 - val_mean_squared_error: 3094.9707\n",
      "Epoch 222/400\n",
      "283/283 [==============================] - 0s 56us/step - loss: 2923.2622 - mean_absolute_error: 43.9081 - mean_squared_error: 2923.2622 - val_loss: 3097.7403 - val_mean_absolute_error: 43.4050 - val_mean_squared_error: 3097.7403\n",
      "Epoch 223/400\n",
      "283/283 [==============================] - 0s 60us/step - loss: 2924.3191 - mean_absolute_error: 43.9152 - mean_squared_error: 2924.3191 - val_loss: 3093.7313 - val_mean_absolute_error: 43.4030 - val_mean_squared_error: 3093.7313\n",
      "Epoch 224/400\n",
      "283/283 [==============================] - 0s 49us/step - loss: 2922.5021 - mean_absolute_error: 43.9105 - mean_squared_error: 2922.5021 - val_loss: 3089.6134 - val_mean_absolute_error: 43.4305 - val_mean_squared_error: 3089.6134\n",
      "Epoch 225/400\n",
      "283/283 [==============================] - 0s 44us/step - loss: 2923.2924 - mean_absolute_error: 43.9075 - mean_squared_error: 2923.2924 - val_loss: 3092.4106 - val_mean_absolute_error: 43.4207 - val_mean_squared_error: 3092.4106\n",
      "Epoch 226/400\n",
      "283/283 [==============================] - 0s 53us/step - loss: 2922.3151 - mean_absolute_error: 43.9021 - mean_squared_error: 2922.3151 - val_loss: 3093.2837 - val_mean_absolute_error: 43.4121 - val_mean_squared_error: 3093.2837\n",
      "Epoch 227/400\n",
      "283/283 [==============================] - 0s 55us/step - loss: 2932.7730 - mean_absolute_error: 43.9998 - mean_squared_error: 2932.7730 - val_loss: 3075.7312 - val_mean_absolute_error: 43.5256 - val_mean_squared_error: 3075.7312\n",
      "Epoch 228/400\n",
      "283/283 [==============================] - 0s 38us/step - loss: 2922.5170 - mean_absolute_error: 43.9414 - mean_squared_error: 2922.5170 - val_loss: 3087.3019 - val_mean_absolute_error: 43.4194 - val_mean_squared_error: 3087.3019\n",
      "Epoch 229/400\n",
      "283/283 [==============================] - 0s 58us/step - loss: 2920.6765 - mean_absolute_error: 43.8951 - mean_squared_error: 2920.6765 - val_loss: 3091.4401 - val_mean_absolute_error: 43.4000 - val_mean_squared_error: 3091.4401\n",
      "Epoch 230/400\n",
      "283/283 [==============================] - 0s 46us/step - loss: 2924.7909 - mean_absolute_error: 43.8839 - mean_squared_error: 2924.7909 - val_loss: 3102.5230 - val_mean_absolute_error: 43.3837 - val_mean_squared_error: 3102.5230\n",
      "Epoch 231/400\n",
      "283/283 [==============================] - 0s 45us/step - loss: 2921.2611 - mean_absolute_error: 43.8795 - mean_squared_error: 2921.2611 - val_loss: 3095.0088 - val_mean_absolute_error: 43.3951 - val_mean_squared_error: 3095.0088\n",
      "Epoch 232/400\n",
      "283/283 [==============================] - 0s 41us/step - loss: 2920.8293 - mean_absolute_error: 43.8995 - mean_squared_error: 2920.8293 - val_loss: 3090.9269 - val_mean_absolute_error: 43.4078 - val_mean_squared_error: 3090.9269\n",
      "Epoch 233/400\n",
      "283/283 [==============================] - 0s 47us/step - loss: 2936.1024 - mean_absolute_error: 44.0287 - mean_squared_error: 2936.1024 - val_loss: 3073.8037 - val_mean_absolute_error: 43.5218 - val_mean_squared_error: 3073.8037\n",
      "Epoch 234/400\n",
      "283/283 [==============================] - 0s 47us/step - loss: 2920.2050 - mean_absolute_error: 43.9238 - mean_squared_error: 2920.2050 - val_loss: 3084.2827 - val_mean_absolute_error: 43.4298 - val_mean_squared_error: 3084.2827\n"
     ]
    },
    {
     "name": "stdout",
     "output_type": "stream",
     "text": [
      "Epoch 235/400\n",
      "283/283 [==============================] - 0s 47us/step - loss: 2927.5307 - mean_absolute_error: 43.9155 - mean_squared_error: 2927.5307 - val_loss: 3109.7842 - val_mean_absolute_error: 43.3996 - val_mean_squared_error: 3109.7842\n",
      "Epoch 236/400\n",
      "283/283 [==============================] - 0s 45us/step - loss: 2920.1384 - mean_absolute_error: 43.8622 - mean_squared_error: 2920.1384 - val_loss: 3097.2546 - val_mean_absolute_error: 43.3970 - val_mean_squared_error: 3097.2546\n",
      "Epoch 237/400\n",
      "283/283 [==============================] - 0s 44us/step - loss: 2918.4115 - mean_absolute_error: 43.8681 - mean_squared_error: 2918.4115 - val_loss: 3088.9919 - val_mean_absolute_error: 43.4036 - val_mean_squared_error: 3088.9919\n",
      "Epoch 238/400\n",
      "283/283 [==============================] - 0s 43us/step - loss: 2918.2784 - mean_absolute_error: 43.8756 - mean_squared_error: 2918.2784 - val_loss: 3087.3948 - val_mean_absolute_error: 43.4374 - val_mean_squared_error: 3087.3948\n",
      "Epoch 239/400\n",
      "283/283 [==============================] - 0s 45us/step - loss: 2919.5708 - mean_absolute_error: 43.8995 - mean_squared_error: 2919.5708 - val_loss: 3085.2030 - val_mean_absolute_error: 43.4389 - val_mean_squared_error: 3085.2030\n",
      "Epoch 240/400\n",
      "283/283 [==============================] - 0s 51us/step - loss: 2917.1152 - mean_absolute_error: 43.8704 - mean_squared_error: 2917.1152 - val_loss: 3093.1610 - val_mean_absolute_error: 43.3907 - val_mean_squared_error: 3093.1610\n",
      "Epoch 241/400\n",
      "283/283 [==============================] - 0s 49us/step - loss: 2917.3500 - mean_absolute_error: 43.8555 - mean_squared_error: 2917.3500 - val_loss: 3093.0733 - val_mean_absolute_error: 43.3950 - val_mean_squared_error: 3093.0733\n",
      "Epoch 242/400\n",
      "283/283 [==============================] - 0s 52us/step - loss: 2919.1647 - mean_absolute_error: 43.8548 - mean_squared_error: 2919.1647 - val_loss: 3091.6620 - val_mean_absolute_error: 43.3960 - val_mean_squared_error: 3091.6620\n",
      "Epoch 243/400\n",
      "283/283 [==============================] - 0s 51us/step - loss: 2917.1620 - mean_absolute_error: 43.8586 - mean_squared_error: 2917.1620 - val_loss: 3091.7140 - val_mean_absolute_error: 43.3952 - val_mean_squared_error: 3091.7140\n",
      "Epoch 244/400\n",
      "283/283 [==============================] - 0s 47us/step - loss: 2916.0891 - mean_absolute_error: 43.8548 - mean_squared_error: 2916.0891 - val_loss: 3088.3092 - val_mean_absolute_error: 43.4320 - val_mean_squared_error: 3088.3092\n",
      "Epoch 245/400\n",
      "283/283 [==============================] - 0s 53us/step - loss: 2916.1328 - mean_absolute_error: 43.8611 - mean_squared_error: 2916.1328 - val_loss: 3087.7848 - val_mean_absolute_error: 43.4384 - val_mean_squared_error: 3087.7848\n",
      "Epoch 246/400\n",
      "283/283 [==============================] - 0s 60us/step - loss: 2915.4325 - mean_absolute_error: 43.8517 - mean_squared_error: 2915.4325 - val_loss: 3088.1051 - val_mean_absolute_error: 43.4249 - val_mean_squared_error: 3088.1051\n",
      "Epoch 247/400\n",
      "283/283 [==============================] - 0s 53us/step - loss: 2918.1904 - mean_absolute_error: 43.8653 - mean_squared_error: 2918.1904 - val_loss: 3091.1627 - val_mean_absolute_error: 43.3839 - val_mean_squared_error: 3091.1627\n",
      "Epoch 248/400\n",
      "283/283 [==============================] - 0s 66us/step - loss: 2914.5620 - mean_absolute_error: 43.8404 - mean_squared_error: 2914.5620 - val_loss: 3088.3744 - val_mean_absolute_error: 43.4075 - val_mean_squared_error: 3088.3744\n",
      "Epoch 249/400\n",
      "283/283 [==============================] - 0s 51us/step - loss: 2916.8653 - mean_absolute_error: 43.8511 - mean_squared_error: 2916.8653 - val_loss: 3080.1079 - val_mean_absolute_error: 43.4493 - val_mean_squared_error: 3080.1079\n",
      "Epoch 250/400\n",
      "283/283 [==============================] - 0s 50us/step - loss: 2913.3652 - mean_absolute_error: 43.8427 - mean_squared_error: 2913.3652 - val_loss: 3088.9366 - val_mean_absolute_error: 43.4056 - val_mean_squared_error: 3088.9366\n",
      "Epoch 251/400\n",
      "283/283 [==============================] - 0s 49us/step - loss: 2913.0416 - mean_absolute_error: 43.8306 - mean_squared_error: 2913.0416 - val_loss: 3096.8067 - val_mean_absolute_error: 43.3891 - val_mean_squared_error: 3096.8067\n",
      "Epoch 252/400\n",
      "283/283 [==============================] - 0s 56us/step - loss: 2915.6929 - mean_absolute_error: 43.8291 - mean_squared_error: 2915.6929 - val_loss: 3100.2674 - val_mean_absolute_error: 43.4057 - val_mean_squared_error: 3100.2674\n",
      "Epoch 253/400\n",
      "283/283 [==============================] - 0s 50us/step - loss: 2920.4927 - mean_absolute_error: 43.9115 - mean_squared_error: 2920.4927 - val_loss: 3082.8993 - val_mean_absolute_error: 43.4504 - val_mean_squared_error: 3082.8993\n",
      "Epoch 254/400\n",
      "283/283 [==============================] - 0s 51us/step - loss: 2915.6151 - mean_absolute_error: 43.8304 - mean_squared_error: 2915.6151 - val_loss: 3099.6490 - val_mean_absolute_error: 43.4061 - val_mean_squared_error: 3099.6490\n",
      "Epoch 255/400\n",
      "283/283 [==============================] - 0s 63us/step - loss: 2913.7892 - mean_absolute_error: 43.8145 - mean_squared_error: 2913.7892 - val_loss: 3104.1647 - val_mean_absolute_error: 43.4143 - val_mean_squared_error: 3104.1647\n",
      "Epoch 256/400\n",
      "283/283 [==============================] - 0s 64us/step - loss: 2910.4168 - mean_absolute_error: 43.7891 - mean_squared_error: 2910.4168 - val_loss: 3088.4679 - val_mean_absolute_error: 43.4149 - val_mean_squared_error: 3088.4679\n",
      "Epoch 257/400\n",
      "283/283 [==============================] - 0s 47us/step - loss: 2912.5124 - mean_absolute_error: 43.8172 - mean_squared_error: 2912.5124 - val_loss: 3088.6011 - val_mean_absolute_error: 43.4177 - val_mean_squared_error: 3088.6011\n",
      "Epoch 258/400\n",
      "283/283 [==============================] - 0s 45us/step - loss: 2912.9257 - mean_absolute_error: 43.8095 - mean_squared_error: 2912.9257 - val_loss: 3089.5230 - val_mean_absolute_error: 43.4382 - val_mean_squared_error: 3089.5230\n",
      "Epoch 259/400\n",
      "283/283 [==============================] - 0s 45us/step - loss: 2910.4462 - mean_absolute_error: 43.8193 - mean_squared_error: 2910.4462 - val_loss: 3081.9943 - val_mean_absolute_error: 43.4665 - val_mean_squared_error: 3081.9943\n",
      "Epoch 260/400\n",
      "283/283 [==============================] - 0s 60us/step - loss: 2912.1453 - mean_absolute_error: 43.8424 - mean_squared_error: 2912.1453 - val_loss: 3077.8780 - val_mean_absolute_error: 43.4966 - val_mean_squared_error: 3077.8780\n",
      "Epoch 261/400\n",
      "283/283 [==============================] - 0s 46us/step - loss: 2915.0822 - mean_absolute_error: 43.8534 - mean_squared_error: 2915.0822 - val_loss: 3097.3211 - val_mean_absolute_error: 43.4319 - val_mean_squared_error: 3097.3211\n",
      "Epoch 262/400\n",
      "283/283 [==============================] - 0s 45us/step - loss: 2909.1402 - mean_absolute_error: 43.7728 - mean_squared_error: 2909.1402 - val_loss: 3095.6203 - val_mean_absolute_error: 43.4402 - val_mean_squared_error: 3095.6203\n",
      "Epoch 263/400\n",
      "283/283 [==============================] - 0s 43us/step - loss: 2909.3030 - mean_absolute_error: 43.7641 - mean_squared_error: 2909.3030 - val_loss: 3086.8740 - val_mean_absolute_error: 43.4618 - val_mean_squared_error: 3086.8740\n",
      "Epoch 264/400\n",
      "283/283 [==============================] - 0s 42us/step - loss: 2908.3069 - mean_absolute_error: 43.7888 - mean_squared_error: 2908.3069 - val_loss: 3089.1995 - val_mean_absolute_error: 43.4495 - val_mean_squared_error: 3089.1995\n",
      "Epoch 265/400\n",
      "283/283 [==============================] - 0s 47us/step - loss: 2907.3213 - mean_absolute_error: 43.7971 - mean_squared_error: 2907.3213 - val_loss: 3087.3789 - val_mean_absolute_error: 43.4561 - val_mean_squared_error: 3087.3789\n",
      "Epoch 266/400\n",
      "283/283 [==============================] - 0s 42us/step - loss: 2905.6783 - mean_absolute_error: 43.7737 - mean_squared_error: 2905.6783 - val_loss: 3092.4239 - val_mean_absolute_error: 43.4466 - val_mean_squared_error: 3092.4239\n",
      "Epoch 267/400\n",
      "283/283 [==============================] - 0s 46us/step - loss: 2913.3631 - mean_absolute_error: 43.8059 - mean_squared_error: 2913.3631 - val_loss: 3107.5621 - val_mean_absolute_error: 43.4493 - val_mean_squared_error: 3107.5621\n",
      "Epoch 268/400\n"
     ]
    },
    {
     "name": "stdout",
     "output_type": "stream",
     "text": [
      "283/283 [==============================] - 0s 41us/step - loss: 2908.8443 - mean_absolute_error: 43.7665 - mean_squared_error: 2908.8443 - val_loss: 3100.8512 - val_mean_absolute_error: 43.4662 - val_mean_squared_error: 3100.8512\n",
      "Epoch 269/400\n",
      "283/283 [==============================] - 0s 42us/step - loss: 2910.1658 - mean_absolute_error: 43.8143 - mean_squared_error: 2910.1658 - val_loss: 3082.3013 - val_mean_absolute_error: 43.5044 - val_mean_squared_error: 3082.3013\n",
      "Epoch 270/400\n",
      "283/283 [==============================] - 0s 51us/step - loss: 2904.6632 - mean_absolute_error: 43.7869 - mean_squared_error: 2904.6632 - val_loss: 3085.5160 - val_mean_absolute_error: 43.4856 - val_mean_squared_error: 3085.5160\n",
      "Epoch 271/400\n",
      "283/283 [==============================] - 0s 43us/step - loss: 2907.3704 - mean_absolute_error: 43.8138 - mean_squared_error: 2907.3704 - val_loss: 3089.1655 - val_mean_absolute_error: 43.4606 - val_mean_squared_error: 3089.1655\n",
      "Epoch 272/400\n",
      "283/283 [==============================] - 0s 48us/step - loss: 2909.0783 - mean_absolute_error: 43.7903 - mean_squared_error: 2909.0783 - val_loss: 3110.4881 - val_mean_absolute_error: 43.4743 - val_mean_squared_error: 3110.4881\n",
      "Epoch 273/400\n",
      "283/283 [==============================] - 0s 43us/step - loss: 2905.5768 - mean_absolute_error: 43.7676 - mean_squared_error: 2905.5768 - val_loss: 3100.0380 - val_mean_absolute_error: 43.4284 - val_mean_squared_error: 3100.0380\n",
      "Epoch 274/400\n",
      "283/283 [==============================] - 0s 50us/step - loss: 2908.1534 - mean_absolute_error: 43.7838 - mean_squared_error: 2908.1534 - val_loss: 3104.6999 - val_mean_absolute_error: 43.4389 - val_mean_squared_error: 3104.6999\n",
      "Epoch 275/400\n",
      "283/283 [==============================] - 0s 41us/step - loss: 2903.4444 - mean_absolute_error: 43.7612 - mean_squared_error: 2903.4444 - val_loss: 3090.2249 - val_mean_absolute_error: 43.4896 - val_mean_squared_error: 3090.2249\n",
      "Epoch 276/400\n",
      "283/283 [==============================] - 0s 47us/step - loss: 2902.6236 - mean_absolute_error: 43.7655 - mean_squared_error: 2902.6236 - val_loss: 3092.5862 - val_mean_absolute_error: 43.4793 - val_mean_squared_error: 3092.5862\n",
      "Epoch 277/400\n",
      "283/283 [==============================] - 0s 46us/step - loss: 2901.4873 - mean_absolute_error: 43.7469 - mean_squared_error: 2901.4873 - val_loss: 3094.9710 - val_mean_absolute_error: 43.4657 - val_mean_squared_error: 3094.9710\n",
      "Epoch 278/400\n",
      "283/283 [==============================] - 0s 52us/step - loss: 2903.5879 - mean_absolute_error: 43.7492 - mean_squared_error: 2903.5879 - val_loss: 3098.5573 - val_mean_absolute_error: 43.4547 - val_mean_squared_error: 3098.5573\n",
      "Epoch 279/400\n",
      "283/283 [==============================] - 0s 52us/step - loss: 2900.4586 - mean_absolute_error: 43.7499 - mean_squared_error: 2900.4586 - val_loss: 3091.7952 - val_mean_absolute_error: 43.4788 - val_mean_squared_error: 3091.7952\n",
      "Epoch 280/400\n",
      "283/283 [==============================] - 0s 46us/step - loss: 2900.2071 - mean_absolute_error: 43.7311 - mean_squared_error: 2900.2071 - val_loss: 3094.2138 - val_mean_absolute_error: 43.4783 - val_mean_squared_error: 3094.2138\n",
      "Epoch 281/400\n",
      "283/283 [==============================] - 0s 48us/step - loss: 2900.0600 - mean_absolute_error: 43.7175 - mean_squared_error: 2900.0600 - val_loss: 3096.9391 - val_mean_absolute_error: 43.4746 - val_mean_squared_error: 3096.9391\n",
      "Epoch 282/400\n",
      "283/283 [==============================] - 0s 44us/step - loss: 2898.7520 - mean_absolute_error: 43.7196 - mean_squared_error: 2898.7520 - val_loss: 3097.9046 - val_mean_absolute_error: 43.4713 - val_mean_squared_error: 3097.9046\n",
      "Epoch 283/400\n",
      "283/283 [==============================] - 0s 53us/step - loss: 2899.4243 - mean_absolute_error: 43.7225 - mean_squared_error: 2899.4243 - val_loss: 3094.9984 - val_mean_absolute_error: 43.4950 - val_mean_squared_error: 3094.9984\n",
      "Epoch 284/400\n",
      "283/283 [==============================] - 0s 42us/step - loss: 2899.4603 - mean_absolute_error: 43.7379 - mean_squared_error: 2899.4603 - val_loss: 3087.2305 - val_mean_absolute_error: 43.5136 - val_mean_squared_error: 3087.2305\n",
      "Epoch 285/400\n",
      "283/283 [==============================] - 0s 40us/step - loss: 2899.0462 - mean_absolute_error: 43.7549 - mean_squared_error: 2899.0462 - val_loss: 3088.0045 - val_mean_absolute_error: 43.5037 - val_mean_squared_error: 3088.0045\n",
      "Epoch 286/400\n",
      "283/283 [==============================] - 0s 44us/step - loss: 2897.5015 - mean_absolute_error: 43.6973 - mean_squared_error: 2897.5015 - val_loss: 3103.1999 - val_mean_absolute_error: 43.4795 - val_mean_squared_error: 3103.1999\n",
      "Epoch 287/400\n",
      "283/283 [==============================] - 0s 51us/step - loss: 2897.6367 - mean_absolute_error: 43.6827 - mean_squared_error: 2897.6367 - val_loss: 3102.0498 - val_mean_absolute_error: 43.4695 - val_mean_squared_error: 3102.0498\n",
      "Epoch 288/400\n",
      "283/283 [==============================] - 0s 40us/step - loss: 2896.0715 - mean_absolute_error: 43.6801 - mean_squared_error: 2896.0715 - val_loss: 3099.5181 - val_mean_absolute_error: 43.4634 - val_mean_squared_error: 3099.5181\n",
      "Epoch 289/400\n",
      "283/283 [==============================] - 0s 44us/step - loss: 2900.0390 - mean_absolute_error: 43.6997 - mean_squared_error: 2900.0390 - val_loss: 3105.6172 - val_mean_absolute_error: 43.4599 - val_mean_squared_error: 3105.6172\n",
      "Epoch 290/400\n",
      "283/283 [==============================] - 0s 49us/step - loss: 2894.0518 - mean_absolute_error: 43.6810 - mean_squared_error: 2894.0518 - val_loss: 3094.8497 - val_mean_absolute_error: 43.4726 - val_mean_squared_error: 3094.8497\n",
      "Epoch 291/400\n",
      "283/283 [==============================] - 0s 55us/step - loss: 2899.5097 - mean_absolute_error: 43.7361 - mean_squared_error: 2899.5097 - val_loss: 3090.9308 - val_mean_absolute_error: 43.4936 - val_mean_squared_error: 3090.9308\n",
      "Epoch 292/400\n",
      "283/283 [==============================] - 0s 47us/step - loss: 2896.1949 - mean_absolute_error: 43.7287 - mean_squared_error: 2896.1949 - val_loss: 3088.7784 - val_mean_absolute_error: 43.5037 - val_mean_squared_error: 3088.7784\n",
      "Epoch 293/400\n",
      "283/283 [==============================] - 0s 42us/step - loss: 2894.6784 - mean_absolute_error: 43.6988 - mean_squared_error: 2894.6784 - val_loss: 3093.7393 - val_mean_absolute_error: 43.4672 - val_mean_squared_error: 3093.7393\n",
      "Epoch 294/400\n",
      "283/283 [==============================] - 0s 45us/step - loss: 2896.4676 - mean_absolute_error: 43.6680 - mean_squared_error: 2896.4676 - val_loss: 3108.4824 - val_mean_absolute_error: 43.4640 - val_mean_squared_error: 3108.4824\n",
      "Epoch 295/400\n",
      "283/283 [==============================] - 0s 45us/step - loss: 2896.9457 - mean_absolute_error: 43.6522 - mean_squared_error: 2896.9457 - val_loss: 3108.7312 - val_mean_absolute_error: 43.4692 - val_mean_squared_error: 3108.7312\n",
      "Epoch 296/400\n",
      "283/283 [==============================] - 0s 52us/step - loss: 2892.1339 - mean_absolute_error: 43.6705 - mean_squared_error: 2892.1339 - val_loss: 3090.4237 - val_mean_absolute_error: 43.4952 - val_mean_squared_error: 3090.4237\n",
      "Epoch 297/400\n",
      "283/283 [==============================] - 0s 45us/step - loss: 2895.2038 - mean_absolute_error: 43.7273 - mean_squared_error: 2895.2038 - val_loss: 3081.7964 - val_mean_absolute_error: 43.5244 - val_mean_squared_error: 3081.7964\n",
      "Epoch 298/400\n",
      "283/283 [==============================] - 0s 50us/step - loss: 2896.9323 - mean_absolute_error: 43.7267 - mean_squared_error: 2896.9323 - val_loss: 3102.0908 - val_mean_absolute_error: 43.4758 - val_mean_squared_error: 3102.0908\n",
      "Epoch 299/400\n",
      "283/283 [==============================] - 0s 48us/step - loss: 2891.6117 - mean_absolute_error: 43.6765 - mean_squared_error: 2891.6117 - val_loss: 3094.3819 - val_mean_absolute_error: 43.4801 - val_mean_squared_error: 3094.3819\n",
      "Epoch 300/400\n",
      "283/283 [==============================] - 0s 45us/step - loss: 2893.6545 - mean_absolute_error: 43.6769 - mean_squared_error: 2893.6545 - val_loss: 3088.3421 - val_mean_absolute_error: 43.5123 - val_mean_squared_error: 3088.3421\n",
      "Epoch 301/400\n",
      "283/283 [==============================] - 0s 47us/step - loss: 2890.0986 - mean_absolute_error: 43.6225 - mean_squared_error: 2890.0986 - val_loss: 3105.0981 - val_mean_absolute_error: 43.4930 - val_mean_squared_error: 3105.0981\n"
     ]
    },
    {
     "name": "stdout",
     "output_type": "stream",
     "text": [
      "Epoch 302/400\n",
      "283/283 [==============================] - 0s 42us/step - loss: 2896.3275 - mean_absolute_error: 43.6861 - mean_squared_error: 2896.3275 - val_loss: 3115.8234 - val_mean_absolute_error: 43.5033 - val_mean_squared_error: 3115.8234\n",
      "Epoch 303/400\n",
      "283/283 [==============================] - 0s 44us/step - loss: 2892.8913 - mean_absolute_error: 43.6773 - mean_squared_error: 2892.8913 - val_loss: 3095.8778 - val_mean_absolute_error: 43.4954 - val_mean_squared_error: 3095.8778\n",
      "Epoch 304/400\n",
      "283/283 [==============================] - 0s 40us/step - loss: 2894.1537 - mean_absolute_error: 43.7079 - mean_squared_error: 2894.1537 - val_loss: 3088.3334 - val_mean_absolute_error: 43.5343 - val_mean_squared_error: 3088.3334\n",
      "Epoch 305/400\n",
      "283/283 [==============================] - 0s 40us/step - loss: 2892.7010 - mean_absolute_error: 43.6985 - mean_squared_error: 2892.7010 - val_loss: 3107.9911 - val_mean_absolute_error: 43.5031 - val_mean_squared_error: 3107.9911\n",
      "Epoch 306/400\n",
      "283/283 [==============================] - 0s 40us/step - loss: 2889.5244 - mean_absolute_error: 43.6179 - mean_squared_error: 2889.5244 - val_loss: 3111.5737 - val_mean_absolute_error: 43.5008 - val_mean_squared_error: 3111.5737\n",
      "Epoch 307/400\n",
      "283/283 [==============================] - 0s 46us/step - loss: 2889.7410 - mean_absolute_error: 43.6065 - mean_squared_error: 2889.7410 - val_loss: 3109.1425 - val_mean_absolute_error: 43.5223 - val_mean_squared_error: 3109.1425\n",
      "Epoch 308/400\n",
      "283/283 [==============================] - 0s 45us/step - loss: 2886.7588 - mean_absolute_error: 43.6136 - mean_squared_error: 2886.7588 - val_loss: 3091.9004 - val_mean_absolute_error: 43.5330 - val_mean_squared_error: 3091.9004\n",
      "Epoch 309/400\n",
      "283/283 [==============================] - 0s 53us/step - loss: 2887.6750 - mean_absolute_error: 43.6589 - mean_squared_error: 2887.6750 - val_loss: 3093.5431 - val_mean_absolute_error: 43.5203 - val_mean_squared_error: 3093.5431\n",
      "Epoch 310/400\n",
      "283/283 [==============================] - 0s 52us/step - loss: 2891.2601 - mean_absolute_error: 43.7098 - mean_squared_error: 2891.2601 - val_loss: 3085.3649 - val_mean_absolute_error: 43.5715 - val_mean_squared_error: 3085.3649\n",
      "Epoch 311/400\n",
      "283/283 [==============================] - 0s 48us/step - loss: 2886.9366 - mean_absolute_error: 43.6827 - mean_squared_error: 2886.9366 - val_loss: 3097.0540 - val_mean_absolute_error: 43.4794 - val_mean_squared_error: 3097.0540\n",
      "Epoch 312/400\n",
      "283/283 [==============================] - 0s 52us/step - loss: 2886.4712 - mean_absolute_error: 43.6059 - mean_squared_error: 2886.4712 - val_loss: 3108.0095 - val_mean_absolute_error: 43.5175 - val_mean_squared_error: 3108.0095\n",
      "Epoch 313/400\n",
      "283/283 [==============================] - 0s 51us/step - loss: 2887.4771 - mean_absolute_error: 43.6277 - mean_squared_error: 2887.4771 - val_loss: 3098.3139 - val_mean_absolute_error: 43.4997 - val_mean_squared_error: 3098.3139\n",
      "Epoch 314/400\n",
      "283/283 [==============================] - 0s 58us/step - loss: 2882.9145 - mean_absolute_error: 43.6072 - mean_squared_error: 2882.9145 - val_loss: 3100.4881 - val_mean_absolute_error: 43.5014 - val_mean_squared_error: 3100.4881\n",
      "Epoch 315/400\n",
      "283/283 [==============================] - 0s 42us/step - loss: 2882.6726 - mean_absolute_error: 43.5701 - mean_squared_error: 2882.6726 - val_loss: 3107.8133 - val_mean_absolute_error: 43.5112 - val_mean_squared_error: 3107.8133\n",
      "Epoch 316/400\n",
      "283/283 [==============================] - 0s 48us/step - loss: 2883.1517 - mean_absolute_error: 43.5888 - mean_squared_error: 2883.1517 - val_loss: 3106.9760 - val_mean_absolute_error: 43.5053 - val_mean_squared_error: 3106.9760\n",
      "Epoch 317/400\n",
      "283/283 [==============================] - 0s 43us/step - loss: 2883.4767 - mean_absolute_error: 43.5836 - mean_squared_error: 2883.4767 - val_loss: 3104.7433 - val_mean_absolute_error: 43.5148 - val_mean_squared_error: 3104.7433\n",
      "Epoch 318/400\n",
      "283/283 [==============================] - 0s 44us/step - loss: 2882.9156 - mean_absolute_error: 43.5789 - mean_squared_error: 2882.9156 - val_loss: 3102.6030 - val_mean_absolute_error: 43.5215 - val_mean_squared_error: 3102.6030\n",
      "Epoch 319/400\n",
      "283/283 [==============================] - 0s 46us/step - loss: 2880.6728 - mean_absolute_error: 43.5819 - mean_squared_error: 2880.6728 - val_loss: 3095.5120 - val_mean_absolute_error: 43.5185 - val_mean_squared_error: 3095.5120\n",
      "Epoch 320/400\n",
      "283/283 [==============================] - 0s 47us/step - loss: 2880.5509 - mean_absolute_error: 43.6051 - mean_squared_error: 2880.5509 - val_loss: 3091.5457 - val_mean_absolute_error: 43.5516 - val_mean_squared_error: 3091.5457\n",
      "Epoch 321/400\n",
      "283/283 [==============================] - 0s 43us/step - loss: 2879.9279 - mean_absolute_error: 43.5836 - mean_squared_error: 2879.9279 - val_loss: 3102.2635 - val_mean_absolute_error: 43.5044 - val_mean_squared_error: 3102.2635\n",
      "Epoch 322/400\n",
      "283/283 [==============================] - 0s 57us/step - loss: 2889.5048 - mean_absolute_error: 43.6786 - mean_squared_error: 2889.5048 - val_loss: 3092.0991 - val_mean_absolute_error: 43.5405 - val_mean_squared_error: 3092.0991\n",
      "Epoch 323/400\n",
      "283/283 [==============================] - 0s 49us/step - loss: 2878.4592 - mean_absolute_error: 43.5689 - mean_squared_error: 2878.4592 - val_loss: 3108.7994 - val_mean_absolute_error: 43.5164 - val_mean_squared_error: 3108.7994\n",
      "Epoch 324/400\n",
      "283/283 [==============================] - 0s 53us/step - loss: 2885.0637 - mean_absolute_error: 43.5983 - mean_squared_error: 2885.0637 - val_loss: 3107.8749 - val_mean_absolute_error: 43.5111 - val_mean_squared_error: 3107.8749\n",
      "Epoch 325/400\n",
      "283/283 [==============================] - 0s 52us/step - loss: 2877.2340 - mean_absolute_error: 43.5346 - mean_squared_error: 2877.2340 - val_loss: 3110.3676 - val_mean_absolute_error: 43.5097 - val_mean_squared_error: 3110.3676\n",
      "Epoch 326/400\n",
      "283/283 [==============================] - 0s 48us/step - loss: 2877.0527 - mean_absolute_error: 43.5356 - mean_squared_error: 2877.0527 - val_loss: 3110.4299 - val_mean_absolute_error: 43.5270 - val_mean_squared_error: 3110.4299\n",
      "Epoch 327/400\n",
      "283/283 [==============================] - 0s 47us/step - loss: 2876.9473 - mean_absolute_error: 43.5380 - mean_squared_error: 2876.9473 - val_loss: 3110.2581 - val_mean_absolute_error: 43.5062 - val_mean_squared_error: 3110.2581\n",
      "Epoch 328/400\n",
      "283/283 [==============================] - 0s 45us/step - loss: 2877.6583 - mean_absolute_error: 43.5585 - mean_squared_error: 2877.6583 - val_loss: 3094.8980 - val_mean_absolute_error: 43.5488 - val_mean_squared_error: 3094.8980\n",
      "Epoch 329/400\n",
      "283/283 [==============================] - 0s 48us/step - loss: 2876.9462 - mean_absolute_error: 43.5731 - mean_squared_error: 2876.9462 - val_loss: 3099.0168 - val_mean_absolute_error: 43.5031 - val_mean_squared_error: 3099.0168\n",
      "Epoch 330/400\n",
      "283/283 [==============================] - 0s 43us/step - loss: 2875.7817 - mean_absolute_error: 43.5491 - mean_squared_error: 2875.7817 - val_loss: 3100.8446 - val_mean_absolute_error: 43.5287 - val_mean_squared_error: 3100.8446\n",
      "Epoch 331/400\n",
      "283/283 [==============================] - 0s 49us/step - loss: 2874.9872 - mean_absolute_error: 43.5215 - mean_squared_error: 2874.9872 - val_loss: 3104.1635 - val_mean_absolute_error: 43.5499 - val_mean_squared_error: 3104.1635\n",
      "Epoch 332/400\n",
      "283/283 [==============================] - 0s 44us/step - loss: 2875.0960 - mean_absolute_error: 43.5391 - mean_squared_error: 2875.0960 - val_loss: 3102.8743 - val_mean_absolute_error: 43.5481 - val_mean_squared_error: 3102.8743\n",
      "Epoch 333/400\n",
      "283/283 [==============================] - 0s 43us/step - loss: 2873.7791 - mean_absolute_error: 43.5228 - mean_squared_error: 2873.7791 - val_loss: 3102.5852 - val_mean_absolute_error: 43.5392 - val_mean_squared_error: 3102.5852\n",
      "Epoch 334/400\n",
      "283/283 [==============================] - 0s 48us/step - loss: 2872.3726 - mean_absolute_error: 43.5169 - mean_squared_error: 2872.3726 - val_loss: 3103.9753 - val_mean_absolute_error: 43.5422 - val_mean_squared_error: 3103.9753\n",
      "Epoch 335/400\n"
     ]
    },
    {
     "name": "stdout",
     "output_type": "stream",
     "text": [
      "283/283 [==============================] - 0s 47us/step - loss: 2873.2387 - mean_absolute_error: 43.5001 - mean_squared_error: 2873.2387 - val_loss: 3114.4332 - val_mean_absolute_error: 43.5380 - val_mean_squared_error: 3114.4332\n",
      "Epoch 336/400\n",
      "283/283 [==============================] - 0s 45us/step - loss: 2872.1782 - mean_absolute_error: 43.5168 - mean_squared_error: 2872.1782 - val_loss: 3108.1176 - val_mean_absolute_error: 43.5569 - val_mean_squared_error: 3108.1176\n",
      "Epoch 337/400\n",
      "283/283 [==============================] - 0s 37us/step - loss: 2871.6543 - mean_absolute_error: 43.4957 - mean_squared_error: 2871.6543 - val_loss: 3107.5950 - val_mean_absolute_error: 43.5412 - val_mean_squared_error: 3107.5950\n",
      "Epoch 338/400\n",
      "283/283 [==============================] - 0s 48us/step - loss: 2875.4046 - mean_absolute_error: 43.5131 - mean_squared_error: 2875.4046 - val_loss: 3120.0668 - val_mean_absolute_error: 43.5696 - val_mean_squared_error: 3120.0668\n",
      "Epoch 339/400\n",
      "283/283 [==============================] - 0s 45us/step - loss: 2869.2285 - mean_absolute_error: 43.4766 - mean_squared_error: 2869.2285 - val_loss: 3108.0964 - val_mean_absolute_error: 43.5558 - val_mean_squared_error: 3108.0964\n",
      "Epoch 340/400\n",
      "283/283 [==============================] - 0s 46us/step - loss: 2873.4929 - mean_absolute_error: 43.5138 - mean_squared_error: 2873.4929 - val_loss: 3092.9844 - val_mean_absolute_error: 43.5832 - val_mean_squared_error: 3092.9844\n",
      "Epoch 341/400\n",
      "283/283 [==============================] - 0s 50us/step - loss: 2873.0240 - mean_absolute_error: 43.5222 - mean_squared_error: 2873.0240 - val_loss: 3106.7400 - val_mean_absolute_error: 43.5486 - val_mean_squared_error: 3106.7400\n",
      "Epoch 342/400\n",
      "283/283 [==============================] - 0s 47us/step - loss: 2873.8801 - mean_absolute_error: 43.5340 - mean_squared_error: 2873.8801 - val_loss: 3096.4143 - val_mean_absolute_error: 43.5721 - val_mean_squared_error: 3096.4143\n",
      "Epoch 343/400\n",
      "283/283 [==============================] - 0s 49us/step - loss: 2870.3621 - mean_absolute_error: 43.4985 - mean_squared_error: 2870.3621 - val_loss: 3112.7948 - val_mean_absolute_error: 43.5768 - val_mean_squared_error: 3112.7948\n",
      "Epoch 344/400\n",
      "283/283 [==============================] - 0s 44us/step - loss: 2876.5408 - mean_absolute_error: 43.5726 - mean_squared_error: 2876.5408 - val_loss: 3100.6684 - val_mean_absolute_error: 43.5678 - val_mean_squared_error: 3100.6684\n",
      "Epoch 345/400\n",
      "283/283 [==============================] - 0s 40us/step - loss: 2865.2264 - mean_absolute_error: 43.4639 - mean_squared_error: 2865.2264 - val_loss: 3114.2649 - val_mean_absolute_error: 43.5677 - val_mean_squared_error: 3114.2649\n",
      "Epoch 346/400\n",
      "283/283 [==============================] - 0s 43us/step - loss: 2869.5082 - mean_absolute_error: 43.4697 - mean_squared_error: 2869.5082 - val_loss: 3118.1008 - val_mean_absolute_error: 43.5772 - val_mean_squared_error: 3118.1008\n",
      "Epoch 347/400\n",
      "283/283 [==============================] - 0s 46us/step - loss: 2866.5908 - mean_absolute_error: 43.4475 - mean_squared_error: 2866.5908 - val_loss: 3116.5836 - val_mean_absolute_error: 43.5838 - val_mean_squared_error: 3116.5836\n",
      "Epoch 348/400\n",
      "283/283 [==============================] - 0s 44us/step - loss: 2868.6850 - mean_absolute_error: 43.4782 - mean_squared_error: 2868.6850 - val_loss: 3109.1124 - val_mean_absolute_error: 43.5639 - val_mean_squared_error: 3109.1124\n",
      "Epoch 349/400\n",
      "283/283 [==============================] - 0s 47us/step - loss: 2869.4769 - mean_absolute_error: 43.4764 - mean_squared_error: 2869.4769 - val_loss: 3108.7490 - val_mean_absolute_error: 43.5727 - val_mean_squared_error: 3108.7490\n",
      "Epoch 350/400\n",
      "283/283 [==============================] - 0s 44us/step - loss: 2869.9764 - mean_absolute_error: 43.4648 - mean_squared_error: 2869.9764 - val_loss: 3123.8735 - val_mean_absolute_error: 43.6101 - val_mean_squared_error: 3123.8735\n",
      "Epoch 351/400\n",
      "283/283 [==============================] - 0s 44us/step - loss: 2865.7501 - mean_absolute_error: 43.4373 - mean_squared_error: 2865.7501 - val_loss: 3114.4408 - val_mean_absolute_error: 43.5902 - val_mean_squared_error: 3114.4408\n",
      "Epoch 352/400\n",
      "283/283 [==============================] - 0s 45us/step - loss: 2864.4641 - mean_absolute_error: 43.4371 - mean_squared_error: 2864.4641 - val_loss: 3103.3937 - val_mean_absolute_error: 43.5808 - val_mean_squared_error: 3103.3937\n",
      "Epoch 353/400\n",
      "283/283 [==============================] - 0s 43us/step - loss: 2864.3844 - mean_absolute_error: 43.4500 - mean_squared_error: 2864.3844 - val_loss: 3100.3121 - val_mean_absolute_error: 43.5828 - val_mean_squared_error: 3100.3121\n",
      "Epoch 354/400\n",
      "283/283 [==============================] - 0s 41us/step - loss: 2863.2151 - mean_absolute_error: 43.4297 - mean_squared_error: 2863.2151 - val_loss: 3118.0883 - val_mean_absolute_error: 43.5925 - val_mean_squared_error: 3118.0883\n",
      "Epoch 355/400\n",
      "283/283 [==============================] - 0s 47us/step - loss: 2862.5689 - mean_absolute_error: 43.4173 - mean_squared_error: 2862.5689 - val_loss: 3114.0667 - val_mean_absolute_error: 43.5945 - val_mean_squared_error: 3114.0667\n",
      "Epoch 356/400\n",
      "283/283 [==============================] - 0s 49us/step - loss: 2860.6592 - mean_absolute_error: 43.4055 - mean_squared_error: 2860.6592 - val_loss: 3109.8958 - val_mean_absolute_error: 43.5940 - val_mean_squared_error: 3109.8958\n",
      "Epoch 357/400\n",
      "283/283 [==============================] - 0s 46us/step - loss: 2861.6494 - mean_absolute_error: 43.4315 - mean_squared_error: 2861.6494 - val_loss: 3102.9675 - val_mean_absolute_error: 43.6057 - val_mean_squared_error: 3102.9675\n",
      "Epoch 358/400\n",
      "283/283 [==============================] - 0s 46us/step - loss: 2866.2205 - mean_absolute_error: 43.4372 - mean_squared_error: 2866.2205 - val_loss: 3120.8122 - val_mean_absolute_error: 43.6290 - val_mean_squared_error: 3120.8122\n",
      "Epoch 359/400\n",
      "283/283 [==============================] - 0s 44us/step - loss: 2862.5900 - mean_absolute_error: 43.4226 - mean_squared_error: 2862.5900 - val_loss: 3105.0533 - val_mean_absolute_error: 43.6012 - val_mean_squared_error: 3105.0533\n",
      "Epoch 360/400\n",
      "283/283 [==============================] - 0s 44us/step - loss: 2865.6848 - mean_absolute_error: 43.4733 - mean_squared_error: 2865.6848 - val_loss: 3114.4551 - val_mean_absolute_error: 43.6237 - val_mean_squared_error: 3114.4551\n",
      "Epoch 361/400\n",
      "283/283 [==============================] - 0s 46us/step - loss: 2857.7102 - mean_absolute_error: 43.3871 - mean_squared_error: 2857.7102 - val_loss: 3111.5286 - val_mean_absolute_error: 43.6105 - val_mean_squared_error: 3111.5286\n",
      "Epoch 362/400\n",
      "283/283 [==============================] - 0s 42us/step - loss: 2863.0672 - mean_absolute_error: 43.4358 - mean_squared_error: 2863.0672 - val_loss: 3102.3258 - val_mean_absolute_error: 43.6171 - val_mean_squared_error: 3102.3258\n",
      "Epoch 363/400\n",
      "283/283 [==============================] - 0s 50us/step - loss: 2859.0287 - mean_absolute_error: 43.4228 - mean_squared_error: 2859.0287 - val_loss: 3113.0943 - val_mean_absolute_error: 43.6140 - val_mean_squared_error: 3113.0943\n",
      "Epoch 364/400\n",
      "283/283 [==============================] - 0s 47us/step - loss: 2856.7848 - mean_absolute_error: 43.3820 - mean_squared_error: 2856.7848 - val_loss: 3112.2158 - val_mean_absolute_error: 43.6074 - val_mean_squared_error: 3112.2158\n",
      "Epoch 365/400\n",
      "283/283 [==============================] - 0s 52us/step - loss: 2859.6053 - mean_absolute_error: 43.3788 - mean_squared_error: 2859.6053 - val_loss: 3121.8421 - val_mean_absolute_error: 43.6273 - val_mean_squared_error: 3121.8421\n",
      "Epoch 366/400\n",
      "283/283 [==============================] - 0s 49us/step - loss: 2868.8932 - mean_absolute_error: 43.4945 - mean_squared_error: 2868.8932 - val_loss: 3101.3052 - val_mean_absolute_error: 43.6097 - val_mean_squared_error: 3101.3052\n",
      "Epoch 367/400\n",
      "283/283 [==============================] - 0s 49us/step - loss: 2860.7595 - mean_absolute_error: 43.4282 - mean_squared_error: 2860.7595 - val_loss: 3123.3729 - val_mean_absolute_error: 43.6463 - val_mean_squared_error: 3123.3729\n",
      "Epoch 368/400\n",
      "283/283 [==============================] - 0s 44us/step - loss: 2856.8040 - mean_absolute_error: 43.3713 - mean_squared_error: 2856.8040 - val_loss: 3115.4015 - val_mean_absolute_error: 43.6269 - val_mean_squared_error: 3115.4015\n"
     ]
    },
    {
     "name": "stdout",
     "output_type": "stream",
     "text": [
      "Epoch 369/400\n",
      "283/283 [==============================] - 0s 49us/step - loss: 2856.2996 - mean_absolute_error: 43.3773 - mean_squared_error: 2856.2996 - val_loss: 3107.3528 - val_mean_absolute_error: 43.6140 - val_mean_squared_error: 3107.3528\n",
      "Epoch 370/400\n",
      "283/283 [==============================] - 0s 58us/step - loss: 2854.1146 - mean_absolute_error: 43.3632 - mean_squared_error: 2854.1146 - val_loss: 3115.8777 - val_mean_absolute_error: 43.6317 - val_mean_squared_error: 3115.8777\n",
      "Epoch 371/400\n",
      "283/283 [==============================] - 0s 45us/step - loss: 2854.9901 - mean_absolute_error: 43.3423 - mean_squared_error: 2854.9901 - val_loss: 3126.6675 - val_mean_absolute_error: 43.6527 - val_mean_squared_error: 3126.6675\n",
      "Epoch 372/400\n",
      "283/283 [==============================] - 0s 44us/step - loss: 2855.8664 - mean_absolute_error: 43.3740 - mean_squared_error: 2855.8664 - val_loss: 3114.9544 - val_mean_absolute_error: 43.6217 - val_mean_squared_error: 3114.9544\n",
      "Epoch 373/400\n",
      "283/283 [==============================] - 0s 45us/step - loss: 2851.5241 - mean_absolute_error: 43.3429 - mean_squared_error: 2851.5241 - val_loss: 3114.7826 - val_mean_absolute_error: 43.6239 - val_mean_squared_error: 3114.7826\n",
      "Epoch 374/400\n",
      "283/283 [==============================] - 0s 47us/step - loss: 2852.3765 - mean_absolute_error: 43.3374 - mean_squared_error: 2852.3765 - val_loss: 3121.7881 - val_mean_absolute_error: 43.6485 - val_mean_squared_error: 3121.7881\n",
      "Epoch 375/400\n",
      "283/283 [==============================] - 0s 39us/step - loss: 2852.4428 - mean_absolute_error: 43.3247 - mean_squared_error: 2852.4428 - val_loss: 3122.6094 - val_mean_absolute_error: 43.6623 - val_mean_squared_error: 3122.6094\n",
      "Epoch 376/400\n",
      "283/283 [==============================] - 0s 42us/step - loss: 2854.3016 - mean_absolute_error: 43.3493 - mean_squared_error: 2854.3016 - val_loss: 3109.6843 - val_mean_absolute_error: 43.6177 - val_mean_squared_error: 3109.6843\n",
      "Epoch 377/400\n",
      "283/283 [==============================] - 0s 45us/step - loss: 2853.6992 - mean_absolute_error: 43.3490 - mean_squared_error: 2853.6992 - val_loss: 3106.9196 - val_mean_absolute_error: 43.6376 - val_mean_squared_error: 3106.9196\n",
      "Epoch 378/400\n",
      "283/283 [==============================] - 0s 42us/step - loss: 2856.0668 - mean_absolute_error: 43.3708 - mean_squared_error: 2856.0668 - val_loss: 3126.8761 - val_mean_absolute_error: 43.6449 - val_mean_squared_error: 3126.8761\n",
      "Epoch 379/400\n",
      "283/283 [==============================] - 0s 44us/step - loss: 2850.6930 - mean_absolute_error: 43.3098 - mean_squared_error: 2850.6930 - val_loss: 3113.5515 - val_mean_absolute_error: 43.5975 - val_mean_squared_error: 3113.5515\n",
      "Epoch 380/400\n",
      "283/283 [==============================] - 0s 40us/step - loss: 2849.4576 - mean_absolute_error: 43.3135 - mean_squared_error: 2849.4576 - val_loss: 3109.7467 - val_mean_absolute_error: 43.6259 - val_mean_squared_error: 3109.7467\n",
      "Epoch 381/400\n",
      "283/283 [==============================] - 0s 44us/step - loss: 2849.8449 - mean_absolute_error: 43.3399 - mean_squared_error: 2849.8449 - val_loss: 3111.2325 - val_mean_absolute_error: 43.6223 - val_mean_squared_error: 3111.2325\n",
      "Epoch 382/400\n",
      "283/283 [==============================] - 0s 43us/step - loss: 2847.8424 - mean_absolute_error: 43.3012 - mean_squared_error: 2847.8424 - val_loss: 3114.7295 - val_mean_absolute_error: 43.6450 - val_mean_squared_error: 3114.7295\n",
      "Epoch 383/400\n",
      "283/283 [==============================] - 0s 45us/step - loss: 2848.0565 - mean_absolute_error: 43.2993 - mean_squared_error: 2848.0565 - val_loss: 3126.2993 - val_mean_absolute_error: 43.6789 - val_mean_squared_error: 3126.2993\n",
      "Epoch 384/400\n",
      "283/283 [==============================] - 0s 51us/step - loss: 2847.2775 - mean_absolute_error: 43.2768 - mean_squared_error: 2847.2775 - val_loss: 3124.2952 - val_mean_absolute_error: 43.6709 - val_mean_squared_error: 3124.2952\n",
      "Epoch 385/400\n",
      "283/283 [==============================] - 0s 46us/step - loss: 2845.9475 - mean_absolute_error: 43.2790 - mean_squared_error: 2845.9475 - val_loss: 3123.6834 - val_mean_absolute_error: 43.6701 - val_mean_squared_error: 3123.6834\n",
      "Epoch 386/400\n",
      "283/283 [==============================] - 0s 39us/step - loss: 2844.9398 - mean_absolute_error: 43.2778 - mean_squared_error: 2844.9398 - val_loss: 3114.3188 - val_mean_absolute_error: 43.6647 - val_mean_squared_error: 3114.3188\n",
      "Epoch 387/400\n",
      "283/283 [==============================] - 0s 39us/step - loss: 2845.4165 - mean_absolute_error: 43.2991 - mean_squared_error: 2845.4165 - val_loss: 3109.1554 - val_mean_absolute_error: 43.6394 - val_mean_squared_error: 3109.1554\n",
      "Epoch 388/400\n",
      "283/283 [==============================] - 0s 57us/step - loss: 2846.9646 - mean_absolute_error: 43.3147 - mean_squared_error: 2846.9646 - val_loss: 3119.3727 - val_mean_absolute_error: 43.6749 - val_mean_squared_error: 3119.3727\n",
      "Epoch 389/400\n",
      "283/283 [==============================] - 0s 45us/step - loss: 2843.6321 - mean_absolute_error: 43.2612 - mean_squared_error: 2843.6321 - val_loss: 3113.6781 - val_mean_absolute_error: 43.6551 - val_mean_squared_error: 3113.6781\n",
      "Epoch 390/400\n",
      "283/283 [==============================] - 0s 42us/step - loss: 2843.4400 - mean_absolute_error: 43.2646 - mean_squared_error: 2843.4400 - val_loss: 3125.1731 - val_mean_absolute_error: 43.6921 - val_mean_squared_error: 3125.1731\n",
      "Epoch 391/400\n",
      "283/283 [==============================] - 0s 45us/step - loss: 2842.2848 - mean_absolute_error: 43.2734 - mean_squared_error: 2842.2848 - val_loss: 3116.5319 - val_mean_absolute_error: 43.6776 - val_mean_squared_error: 3116.5319\n",
      "Epoch 392/400\n",
      "283/283 [==============================] - 0s 42us/step - loss: 2841.3984 - mean_absolute_error: 43.2581 - mean_squared_error: 2841.3984 - val_loss: 3119.9833 - val_mean_absolute_error: 43.6901 - val_mean_squared_error: 3119.9833\n",
      "Epoch 393/400\n",
      "283/283 [==============================] - 0s 46us/step - loss: 2841.7438 - mean_absolute_error: 43.2484 - mean_squared_error: 2841.7438 - val_loss: 3124.9787 - val_mean_absolute_error: 43.6910 - val_mean_squared_error: 3124.9787\n",
      "Epoch 394/400\n",
      "283/283 [==============================] - 0s 46us/step - loss: 2843.0149 - mean_absolute_error: 43.2470 - mean_squared_error: 2843.0149 - val_loss: 3124.3274 - val_mean_absolute_error: 43.6846 - val_mean_squared_error: 3124.3274\n",
      "Epoch 395/400\n",
      "283/283 [==============================] - 0s 43us/step - loss: 2839.9511 - mean_absolute_error: 43.2526 - mean_squared_error: 2839.9511 - val_loss: 3119.2604 - val_mean_absolute_error: 43.6870 - val_mean_squared_error: 3119.2604\n",
      "Epoch 396/400\n",
      "283/283 [==============================] - 0s 46us/step - loss: 2838.8400 - mean_absolute_error: 43.2468 - mean_squared_error: 2838.8400 - val_loss: 3117.2858 - val_mean_absolute_error: 43.6695 - val_mean_squared_error: 3117.2858\n",
      "Epoch 397/400\n",
      "283/283 [==============================] - 0s 43us/step - loss: 2838.8272 - mean_absolute_error: 43.2446 - mean_squared_error: 2838.8272 - val_loss: 3114.9158 - val_mean_absolute_error: 43.6823 - val_mean_squared_error: 3114.9158\n",
      "Epoch 398/400\n",
      "283/283 [==============================] - 0s 43us/step - loss: 2842.6326 - mean_absolute_error: 43.2496 - mean_squared_error: 2842.6326 - val_loss: 3131.5396 - val_mean_absolute_error: 43.7259 - val_mean_squared_error: 3131.5396\n",
      "Epoch 399/400\n",
      "283/283 [==============================] - 0s 44us/step - loss: 2838.4797 - mean_absolute_error: 43.2128 - mean_squared_error: 2838.4797 - val_loss: 3130.4131 - val_mean_absolute_error: 43.7150 - val_mean_squared_error: 3130.4131\n",
      "Epoch 400/400\n",
      "283/283 [==============================] - 0s 44us/step - loss: 2842.2038 - mean_absolute_error: 43.2489 - mean_squared_error: 2842.2038 - val_loss: 3113.0190 - val_mean_absolute_error: 43.6648 - val_mean_squared_error: 3113.0190\n"
     ]
    },
    {
     "data": {
      "text/plain": [
       "<keras.callbacks.History at 0x7f665ef92e80>"
      ]
     },
     "execution_count": 7,
     "metadata": {},
     "output_type": "execute_result"
    }
   ],
   "source": [
    "# Train the network a bit\n",
    "EPOCHS = 400\n",
    "model.fit(\n",
    "  train_dataset, train_labels,\n",
    "  epochs=EPOCHS, validation_split = 0.2)"
   ]
  },
  {
   "cell_type": "code",
   "execution_count": 8,
   "metadata": {},
   "outputs": [
    {
     "name": "stdout",
     "output_type": "stream",
     "text": [
      "_________________________________________________________________\n",
      "Layer (type)                 Output Shape              Param #   \n",
      "=================================================================\n",
      "dense_1 (Dense)              (None, 64)                704       \n",
      "_________________________________________________________________\n",
      "dense_2 (Dense)              (None, 64)                4160      \n",
      "_________________________________________________________________\n",
      "dense_3 (Dense)              (None, 1)                 65        \n",
      "=================================================================\n",
      "Total params: 4,929\n",
      "Trainable params: 4,929\n",
      "Non-trainable params: 0\n",
      "_________________________________________________________________\n"
     ]
    }
   ],
   "source": [
    "# Network architecture summary\n",
    "model.summary()"
   ]
  },
  {
   "cell_type": "code",
   "execution_count": 9,
   "metadata": {},
   "outputs": [
    {
     "name": "stdout",
     "output_type": "stream",
     "text": [
      "Testing set Mean Abs Error: 41.58\n"
     ]
    }
   ],
   "source": [
    "# Test it and view the overall MAE\n",
    "loss, mae, mse = model.evaluate(test_dataset, test_labels, verbose=0)\n",
    "print(\"Testing set Mean Abs Error: {:5.2f}\".format(mae))"
   ]
  },
  {
   "cell_type": "code",
   "execution_count": 10,
   "metadata": {},
   "outputs": [],
   "source": [
    "# Data point for prediction function check\n",
    "data = [0.01991321,  0.05068012,  0.10480869,  0.07007254, -0.03596778, \n",
    "        -0.0266789 , -0.02499266, -0.00259226,  0.00371174,  0.04034337]"
   ]
  },
  {
   "cell_type": "code",
   "execution_count": 11,
   "metadata": {},
   "outputs": [],
   "source": [
    "# Define predict function - needs extra brackets\n",
    "def predict(model, inputs):\n",
    "    return [str(model.predict([[x]])) for x in inputs]"
   ]
  },
  {
   "cell_type": "code",
   "execution_count": 12,
   "metadata": {},
   "outputs": [
    {
     "data": {
      "text/plain": [
       "['[[ 237.48846436]]']"
      ]
     },
     "execution_count": 12,
     "metadata": {},
     "output_type": "execute_result"
    }
   ],
   "source": [
    "# Check if the prediction works\n",
    "predict(model, [data])"
   ]
  },
  {
   "cell_type": "code",
   "execution_count": 13,
   "metadata": {},
   "outputs": [],
   "source": [
    "# Save a model to a file\n",
    "model.save(\"/tmp/model_keras.h5\") "
   ]
  },
  {
   "cell_type": "code",
   "execution_count": 14,
   "metadata": {},
   "outputs": [],
   "source": [
    "from clipper_admin import ClipperConnection, DockerContainerManager\n",
    "from clipper_admin.deployers.keras import deploy_keras_model\n",
    "clipper_conn = ClipperConnection(DockerContainerManager())"
   ]
  },
  {
   "cell_type": "code",
   "execution_count": 15,
   "metadata": {},
   "outputs": [
    {
     "name": "stderr",
     "output_type": "stream",
     "text": [
      "19-06-10:13:58:59 INFO     [docker_container_manager.py:184] [default-cluster] Starting managed Redis instance in Docker\n",
      "19-06-10:13:59:02 INFO     [docker_container_manager.py:276] [default-cluster] Metric Configuration Saved at /tmp/tmp6m62jak2.yml\n",
      "19-06-10:13:59:02 INFO     [clipper_admin.py:162] [default-cluster] Clipper is running\n"
     ]
    }
   ],
   "source": [
    "clipper_conn.start_clipper()"
   ]
  },
  {
   "cell_type": "code",
   "execution_count": 16,
   "metadata": {},
   "outputs": [
    {
     "name": "stdout",
     "output_type": "stream",
     "text": [
      "CONTAINER ID        IMAGE                                 COMMAND                  CREATED                  STATUS                  PORTS                                            NAMES\r\n",
      "287acf94b1e3        prom/prometheus:v2.9.2                \"/bin/prometheus --c…\"   Less than a second ago   Up Less than a second   0.0.0.0:9090->9090/tcp                           metric_frontend-84803\r\n",
      "5b32357fb83f        clipper/frontend-exporter:develop     \"python /usr/src/app…\"   1 second ago             Up Less than a second                                                    query_frontend_exporter-89462\r\n",
      "db8d310c94b7        clipper/query_frontend:develop        \"/clipper/release/sr…\"   2 seconds ago            Up 1 second             0.0.0.0:1337->1337/tcp, 0.0.0.0:7000->7000/tcp   query_frontend-89462\r\n",
      "244b01e25cd5        clipper/management_frontend:develop   \"/clipper/release/sr…\"   2 seconds ago            Up 2 seconds            0.0.0.0:1338->1338/tcp                           mgmt_frontend-49215\r\n",
      "433f225d2e14        redis:alpine                          \"docker-entrypoint.s…\"   3 seconds ago            Up 2 seconds            0.0.0.0:6379->6379/tcp                           redis-7830\r\n"
     ]
    }
   ],
   "source": [
    "# You can see some Clipper containers by simply running:\n",
    "!docker ps"
   ]
  },
  {
   "cell_type": "code",
   "execution_count": 17,
   "metadata": {},
   "outputs": [
    {
     "name": "stderr",
     "output_type": "stream",
     "text": [
      "19-06-10:13:59:03 INFO     [clipper_admin.py:172] [default-cluster] Successfully connected to Clipper cluster at localhost:1337\n"
     ]
    }
   ],
   "source": [
    "clipper_conn.connect()"
   ]
  },
  {
   "cell_type": "code",
   "execution_count": 18,
   "metadata": {},
   "outputs": [
    {
     "data": {
      "text/plain": [
       "[]"
      ]
     },
     "execution_count": 18,
     "metadata": {},
     "output_type": "execute_result"
    }
   ],
   "source": [
    "# List all applications\n",
    "clipper_conn.get_all_apps()"
   ]
  },
  {
   "cell_type": "code",
   "execution_count": 19,
   "metadata": {},
   "outputs": [
    {
     "data": {
      "text/plain": [
       "[]"
      ]
     },
     "execution_count": 19,
     "metadata": {},
     "output_type": "execute_result"
    }
   ],
   "source": [
    "# List all models\n",
    "clipper_conn.get_all_models()"
   ]
  },
  {
   "cell_type": "code",
   "execution_count": 20,
   "metadata": {
    "scrolled": true
   },
   "outputs": [
    {
     "name": "stderr",
     "output_type": "stream",
     "text": [
      "19-06-10:13:59:03 INFO     [clipper_admin.py:236] [default-cluster] Application keras-app was successfully registered\n"
     ]
    }
   ],
   "source": [
    "# Add an application with a name and an input type\n",
    "clipper_conn.register_application(\n",
    "    name=\"keras-app\", input_type=\"doubles\", default_output=\"-1.0\", slo_micros=100000)"
   ]
  },
  {
   "cell_type": "code",
   "execution_count": 21,
   "metadata": {
    "scrolled": true
   },
   "outputs": [
    {
     "name": "stderr",
     "output_type": "stream",
     "text": [
      "19-06-10:13:59:03 INFO     [deployer_utils.py:41] Saving function to /tmp/tmpg0n1l96yclipper\n",
      "19-06-10:13:59:03 INFO     [deployer_utils.py:51] Serialized and supplied predict function\n",
      "19-06-10:13:59:03 INFO     [keras.py:221] Using Python 3.6 base image\n",
      "19-06-10:13:59:03 INFO     [clipper_admin.py:534] [default-cluster] Building model Docker image with model data from /tmp/tmpg0n1l96yclipper\n",
      "19-06-10:13:59:03 INFO     [clipper_admin.py:539] [default-cluster] Step 1/2 : FROM clipper/keras36-container:develop\n",
      "19-06-10:13:59:03 INFO     [clipper_admin.py:539] [default-cluster]  ---> a5c593a345a0\n",
      "19-06-10:13:59:03 INFO     [clipper_admin.py:539] [default-cluster] Step 2/2 : COPY /tmp/tmpg0n1l96yclipper /model/\n",
      "19-06-10:13:59:03 INFO     [clipper_admin.py:539] [default-cluster]  ---> 6a5355431791\n",
      "19-06-10:13:59:03 INFO     [clipper_admin.py:539] [default-cluster] Successfully built 6a5355431791\n",
      "19-06-10:13:59:03 INFO     [clipper_admin.py:539] [default-cluster] Successfully tagged default-cluster-keras-mod:1\n",
      "19-06-10:13:59:03 INFO     [clipper_admin.py:541] [default-cluster] Pushing model Docker image to default-cluster-keras-mod:1\n",
      "19-06-10:13:59:05 INFO     [docker_container_manager.py:409] [default-cluster] Found 0 replicas for keras-mod:1. Adding 1\n",
      "19-06-10:13:59:06 INFO     [clipper_admin.py:724] [default-cluster] Successfully registered model keras-mod:1\n",
      "19-06-10:13:59:06 INFO     [clipper_admin.py:642] [default-cluster] Done deploying model keras-mod:1.\n"
     ]
    }
   ],
   "source": [
    "# Deploy a model, to check what arguments you need run \n",
    "# \"?deploy_keras_model\" to let the notebook show you the definition of the method\n",
    "deploy_keras_model(\n",
    "    clipper_conn,\n",
    "    name=\"keras-mod\",\n",
    "    version=1,\n",
    "    input_type=\"doubles\",\n",
    "    func=predict,\n",
    "    model_path_or_object=model) \n",
    "# We use the model variable but you can also load a .h5 file - see the section below"
   ]
  },
  {
   "cell_type": "code",
   "execution_count": 22,
   "metadata": {
    "scrolled": true
   },
   "outputs": [
    {
     "name": "stderr",
     "output_type": "stream",
     "text": [
      "19-06-10:13:59:06 INFO     [clipper_admin.py:303] [default-cluster] Model keras-mod is now linked to application keras-app\n"
     ]
    }
   ],
   "source": [
    "# Link the model and the app\n",
    "clipper_conn.link_model_to_app(\n",
    "    app_name=\"keras-app\",\n",
    "    model_name=\"keras-mod\")"
   ]
  },
  {
   "cell_type": "code",
   "execution_count": 23,
   "metadata": {},
   "outputs": [
    {
     "data": {
      "text/plain": [
       "['keras-app']"
      ]
     },
     "execution_count": 23,
     "metadata": {},
     "output_type": "execute_result"
    }
   ],
   "source": [
    "# Show the apps again, should list one\n",
    "clipper_conn.get_all_apps()"
   ]
  },
  {
   "cell_type": "code",
   "execution_count": 24,
   "metadata": {},
   "outputs": [],
   "source": [
    "# Get query address\n",
    "query_address = clipper_conn.get_query_addr()"
   ]
  },
  {
   "cell_type": "code",
   "execution_count": 28,
   "metadata": {},
   "outputs": [
    {
     "data": {
      "text/plain": [
       "{'query_id': 2, 'output': [[237.48846]], 'default': False}"
      ]
     },
     "execution_count": 28,
     "metadata": {},
     "output_type": "execute_result"
    }
   ],
   "source": [
    "# To avoid a default answer allow a moment for the model to start and connect properly\n",
    "# before the first query, especially when you run all steps without a break\n",
    "time.sleep(10)\n",
    "# Run a query\n",
    "import requests, json, numpy as np\n",
    "headers = {\"Content-type\": \"application/json\"}\n",
    "requests.post(\"http://\"+query_address+\"/keras-app/predict\", headers=headers, data=json.dumps({\n",
    "    \"input\": data})).json()"
   ]
  },
  {
   "cell_type": "code",
   "execution_count": 29,
   "metadata": {},
   "outputs": [
    {
     "name": "stderr",
     "output_type": "stream",
     "text": [
      "19-06-10:13:59:41 INFO     [deployer_utils.py:41] Saving function to /tmp/tmplr44vkmlclipper\n",
      "19-06-10:13:59:41 INFO     [deployer_utils.py:51] Serialized and supplied predict function\n",
      "19-06-10:13:59:41 INFO     [keras.py:221] Using Python 3.6 base image\n",
      "19-06-10:13:59:41 INFO     [clipper_admin.py:534] [default-cluster] Building model Docker image with model data from /tmp/tmplr44vkmlclipper\n",
      "19-06-10:13:59:42 INFO     [clipper_admin.py:539] [default-cluster] Step 1/2 : FROM clipper/keras36-container:develop\n",
      "19-06-10:13:59:42 INFO     [clipper_admin.py:539] [default-cluster]  ---> a5c593a345a0\n",
      "19-06-10:13:59:42 INFO     [clipper_admin.py:539] [default-cluster] Step 2/2 : COPY /tmp/tmplr44vkmlclipper /model/\n",
      "19-06-10:13:59:42 INFO     [clipper_admin.py:539] [default-cluster]  ---> f18c6176ea98\n",
      "19-06-10:13:59:42 INFO     [clipper_admin.py:539] [default-cluster] Successfully built f18c6176ea98\n",
      "19-06-10:13:59:42 INFO     [clipper_admin.py:539] [default-cluster] Successfully tagged default-cluster-keras-mod:2\n",
      "19-06-10:13:59:42 INFO     [clipper_admin.py:541] [default-cluster] Pushing model Docker image to default-cluster-keras-mod:2\n",
      "19-06-10:13:59:44 INFO     [docker_container_manager.py:409] [default-cluster] Found 0 replicas for keras-mod:2. Adding 1\n",
      "19-06-10:13:59:45 INFO     [clipper_admin.py:724] [default-cluster] Successfully registered model keras-mod:2\n",
      "19-06-10:13:59:45 INFO     [clipper_admin.py:642] [default-cluster] Done deploying model keras-mod:2.\n"
     ]
    }
   ],
   "source": [
    "# Deploy a second model using the saved model file\n",
    "deploy_keras_model(\n",
    "    clipper_conn,\n",
    "    name=\"keras-mod\",\n",
    "    version=2,\n",
    "    input_type=\"doubles\",\n",
    "    func=predict,\n",
    "    model_path_or_object=\"/tmp/model_keras.h5\")"
   ]
  },
  {
   "cell_type": "code",
   "execution_count": 32,
   "metadata": {},
   "outputs": [
    {
     "data": {
      "text/plain": [
       "{'query_id': 4, 'output': [[237.48846]], 'default': False}"
      ]
     },
     "execution_count": 32,
     "metadata": {},
     "output_type": "execute_result"
    }
   ],
   "source": [
    "# To avoid a default answer allow a moment for the model to start and connect properly\n",
    "# before the first query, especially when you run all steps without a break\n",
    "time.sleep(10)\n",
    "# Run another query, the result is the same\n",
    "headers = {\"Content-type\": \"application/json\"}\n",
    "requests.post(\"http://\"+query_address+\"/keras-app/predict\", headers=headers, data=json.dumps({\n",
    "    \"input\": data})).json()"
   ]
  },
  {
   "cell_type": "code",
   "execution_count": 31,
   "metadata": {},
   "outputs": [],
   "source": [
    "# Since it works, let's clean up the model file\n",
    "!rm /tmp/model_keras.h5"
   ]
  },
  {
   "cell_type": "code",
   "execution_count": 33,
   "metadata": {},
   "outputs": [
    {
     "name": "stderr",
     "output_type": "stream",
     "text": [
      "19-06-10:14:00:11 INFO     [clipper_admin.py:344] Model keras-mod is now removed to application keras-app\n"
     ]
    }
   ],
   "source": [
    "# Unlink the model and the app\n",
    "clipper_conn.unlink_model_from_app(model_name=\"keras-mod\", app_name=\"keras-app\")"
   ]
  },
  {
   "cell_type": "code",
   "execution_count": null,
   "metadata": {},
   "outputs": [],
   "source": [
    "# Stop the model # crashes!\n",
    "# clipper_conn.stop_models('keras-mod')"
   ]
  },
  {
   "cell_type": "code",
   "execution_count": 34,
   "metadata": {
    "scrolled": true
   },
   "outputs": [
    {
     "name": "stderr",
     "output_type": "stream",
     "text": [
      "19-06-10:14:00:34 WARNING  [clipper_admin.py:240] [default-cluster] [DEPRECATED] Use 'unregister_application' API instead of this.\n",
      "19-06-10:14:00:34 INFO     [clipper_admin.py:260] [default-cluster] Application keras-app was successfully unregistered\n"
     ]
    }
   ],
   "source": [
    "# Remove the app\n",
    "clipper_conn.delete_application('keras-app')"
   ]
  },
  {
   "cell_type": "code",
   "execution_count": 35,
   "metadata": {},
   "outputs": [
    {
     "name": "stderr",
     "output_type": "stream",
     "text": [
      "19-06-10:14:01:30 INFO     [clipper_admin.py:1424] [default-cluster] Stopped all Clipper cluster and all model containers\n"
     ]
    }
   ],
   "source": [
    "# Stop Clipper\n",
    "clipper_conn.stop_all()"
   ]
  },
  {
   "cell_type": "code",
   "execution_count": 36,
   "metadata": {},
   "outputs": [
    {
     "name": "stdout",
     "output_type": "stream",
     "text": [
      "CONTAINER ID        IMAGE               COMMAND             CREATED             STATUS              PORTS               NAMES\r\n"
     ]
    }
   ],
   "source": [
    "# Check that all docker processes are stopped\n",
    "!docker ps"
   ]
  },
  {
   "cell_type": "code",
   "execution_count": null,
   "metadata": {},
   "outputs": [],
   "source": []
  }
 ],
 "metadata": {
  "kernelspec": {
   "display_name": "Python 3",
   "language": "python",
   "name": "python3"
  },
  "language_info": {
   "codemirror_mode": {
    "name": "ipython",
    "version": 3
   },
   "file_extension": ".py",
   "mimetype": "text/x-python",
   "name": "python",
   "nbconvert_exporter": "python",
   "pygments_lexer": "ipython3",
   "version": "3.6.8"
  }
 },
 "nbformat": 4,
 "nbformat_minor": 2
}
